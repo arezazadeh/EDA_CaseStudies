{
 "cells": [
  {
   "cell_type": "markdown",
   "id": "e57ab129",
   "metadata": {},
   "source": [
    "<div class=\"alert alert-block alert-success\">\n",
    "    \n",
    " \n",
    "# Berkeley- PCMLAI: OH 4- Airbnb Case Study\n",
    "    \n",
    " 👨‍🏫 **Vikesh K**      \n",
    " 📅 **03-Apr-2023**\n",
    "  \n",
    "\n",
    "</div>"
   ]
  },
  {
   "cell_type": "markdown",
   "id": "b8fb2d9b",
   "metadata": {},
   "source": [
    "<div class=\"alert alert-block alert-info\">\n",
    "\n",
    "## Overview\n",
    "Airbnb is a two sided marketplace which matches guests to hosts. The booking flow at Airbnb is as follows: a guest\n",
    "finds an available room (listing) that they like, and then they contact the host. Once the guest finds a listing they\n",
    "are interested in, there are three ways to send the host an inquiry: ‘contact_me’, ‘book_it’, or ‘instant_book’\n",
    "(detailed at the bottom of this document). Upon receiving the inquiry, the host can then decide whether or not to\n",
    "accept the request (for ‘contact_me’ and ‘book_it’ methods -- instant_book is auto-accepted). One of our goals at\n",
    "Airbnb is to increase bookings on our platform.\n",
    "    \n",
    "You are the first data scientist to join a cross-functional Product and Operations team working to grow bookings in\n",
    "Rio de Janeiro. The team asks you for help with the following:\n",
    "\n",
    "1. What key metrics would you propose to monitor over time the success of the team's efforts in improving\n",
    "the guest host matching process and why? Clearly define your metric(s) and explain how each is\n",
    "computed.\n",
    "2. What areas should we invest in to increase the number of successful bookings in Rio de Janeiro? What\n",
    "segments are doing well and what could be improved? Propose 2-3 specific recommendations (business\n",
    "initiatives and product changes) that could address these opportunities. Demonstrate rationale behind\n",
    "each recommendation AND prioritize your recommendations in order of their estimated impact.\n",
    "3. There is also interest from executives at Airbnb about the work you are doing, and a desire to understand\n",
    "the broader framing of the challenge of matching supply and demand, thinking beyond the data provided.\n",
    "What other research, experiments, or approaches could help the company get more clarity on the\n",
    "problem?\n",
    "\n",
    "Your assignment: Summarize your recommendations in response to the questions above in a 5-8 slide\n",
    "presentation intended for the Head of Product and VP of Operations (who is not technical). Include an organized\n",
    "appendix sharing the details of your work conducted for the Rio team, that would be useful for the data team to\n",
    "understand your work.\n",
    "\n",
    "**[Read more here](https://drive.google.com/file/d/1qJPv9iNgjDiUeLsPvWK1eYXOWdYpYqC4/view?usp=sharing)**\n"
   ]
  },
  {
   "cell_type": "code",
   "execution_count": null,
   "id": "7d8f2f18",
   "metadata": {},
   "outputs": [],
   "source": []
  },
  {
   "cell_type": "code",
   "execution_count": null,
   "id": "b8cc8c7f",
   "metadata": {},
   "outputs": [],
   "source": []
  },
  {
   "cell_type": "code",
   "execution_count": 1,
   "id": "be65118d",
   "metadata": {
    "id": "be65118d"
   },
   "outputs": [],
   "source": [
    "import pandas as pd\n",
    "import seaborn as sns\n",
    "import matplotlib.pyplot as plt\n",
    "import ssl\n",
    "import numpy as np\n",
    "import plotly.express as px\n",
    "\n",
    "ssl._create_default_https_context = ssl._create_unverified_context"
   ]
  },
  {
   "cell_type": "markdown",
   "id": "ce6da799",
   "metadata": {},
   "source": [
    "## Loading data \n",
    "\n",
    "**Please run the below code to ensure that you are able to load the data**"
   ]
  },
  {
   "cell_type": "code",
   "execution_count": 40,
   "id": "27edf2eb",
   "metadata": {},
   "outputs": [],
   "source": [
    "url = 'https://raw.githubusercontent.com/vkoul/data/main/misc/' \n",
    "\n",
    "ts_list = ['ts_interaction_first', 'ts_reply_at_first', 'ts_accepted_at_first',\n",
    "       'ts_booking_at', 'ds_checkin_first', 'ds_checkout_first']\n",
    "\n",
    "contacts = pd.read_csv(url + \"airbnb_contacts.csv\", parse_dates=ts_list)\n",
    "\n",
    "listings = pd.read_csv(url + \"aibnb_listings.csv\")\n",
    "\n",
    "users = pd.read_csv(url + \"airbnb_users.csv\")\n",
    "\n"
   ]
  },
  {
   "cell_type": "code",
   "execution_count": 45,
   "id": "7182ad90",
   "metadata": {},
   "outputs": [
    {
     "data": {
      "text/html": [
       "<div>\n",
       "<style scoped>\n",
       "    .dataframe tbody tr th:only-of-type {\n",
       "        vertical-align: middle;\n",
       "    }\n",
       "\n",
       "    .dataframe tbody tr th {\n",
       "        vertical-align: top;\n",
       "    }\n",
       "\n",
       "    .dataframe thead th {\n",
       "        text-align: right;\n",
       "    }\n",
       "</style>\n",
       "<table border=\"1\" class=\"dataframe\">\n",
       "  <thead>\n",
       "    <tr style=\"text-align: right;\">\n",
       "      <th></th>\n",
       "      <th>id_listing_anon</th>\n",
       "      <th>room_type</th>\n",
       "      <th>listing_neighborhood</th>\n",
       "      <th>total_reviews</th>\n",
       "    </tr>\n",
       "  </thead>\n",
       "  <tbody>\n",
       "    <tr>\n",
       "      <th>0</th>\n",
       "      <td>71582793-e5f8-46d7-afdf-7a31d2341c79</td>\n",
       "      <td>Private room</td>\n",
       "      <td>-unknown-</td>\n",
       "      <td>0.0</td>\n",
       "    </tr>\n",
       "    <tr>\n",
       "      <th>1</th>\n",
       "      <td>a1a3f728-e21f-4432-96aa-361d28e2b319</td>\n",
       "      <td>Entire home/apt</td>\n",
       "      <td>Copacabana</td>\n",
       "      <td>0.0</td>\n",
       "    </tr>\n",
       "    <tr>\n",
       "      <th>2</th>\n",
       "      <td>353a68be-ecf9-4b7b-9533-c882dc2f0760</td>\n",
       "      <td>Entire home/apt</td>\n",
       "      <td>Barra da Tijuca</td>\n",
       "      <td>3.0</td>\n",
       "    </tr>\n",
       "    <tr>\n",
       "      <th>3</th>\n",
       "      <td>b9ae1908-0486-40ac-bbcf-bd63ffebfe63</td>\n",
       "      <td>Entire home/apt</td>\n",
       "      <td>Lapa</td>\n",
       "      <td>4.0</td>\n",
       "    </tr>\n",
       "    <tr>\n",
       "      <th>4</th>\n",
       "      <td>fa0290ef-7881-4482-8981-8ebb1ce5dbfd</td>\n",
       "      <td>Entire home/apt</td>\n",
       "      <td>-unknown-</td>\n",
       "      <td>0.0</td>\n",
       "    </tr>\n",
       "    <tr>\n",
       "      <th>...</th>\n",
       "      <td>...</td>\n",
       "      <td>...</td>\n",
       "      <td>...</td>\n",
       "      <td>...</td>\n",
       "    </tr>\n",
       "    <tr>\n",
       "      <th>13033</th>\n",
       "      <td>3e1d677a-c953-4c97-96f0-78011d52c468</td>\n",
       "      <td>Entire home/apt</td>\n",
       "      <td>Copacabana</td>\n",
       "      <td>129.0</td>\n",
       "    </tr>\n",
       "    <tr>\n",
       "      <th>13034</th>\n",
       "      <td>78f65154-4217-4985-ab65-a5935a8c195f</td>\n",
       "      <td>Entire home/apt</td>\n",
       "      <td>Copacabana</td>\n",
       "      <td>0.0</td>\n",
       "    </tr>\n",
       "    <tr>\n",
       "      <th>13035</th>\n",
       "      <td>31f9f27a-077d-47c6-90f9-324ec9d76d35</td>\n",
       "      <td>Entire home/apt</td>\n",
       "      <td>Lagoa</td>\n",
       "      <td>0.0</td>\n",
       "    </tr>\n",
       "    <tr>\n",
       "      <th>13036</th>\n",
       "      <td>8cd6b783-e305-4988-a3bd-da1c2523d364</td>\n",
       "      <td>Entire home/apt</td>\n",
       "      <td>Copacabana</td>\n",
       "      <td>0.0</td>\n",
       "    </tr>\n",
       "    <tr>\n",
       "      <th>13037</th>\n",
       "      <td>f833aa40-edf6-4ddc-b64d-96417dfa6ea2</td>\n",
       "      <td>Entire home/apt</td>\n",
       "      <td>Ipanema</td>\n",
       "      <td>0.0</td>\n",
       "    </tr>\n",
       "  </tbody>\n",
       "</table>\n",
       "<p>13038 rows × 4 columns</p>\n",
       "</div>"
      ],
      "text/plain": [
       "                            id_listing_anon        room_type  \\\n",
       "0      71582793-e5f8-46d7-afdf-7a31d2341c79     Private room   \n",
       "1      a1a3f728-e21f-4432-96aa-361d28e2b319  Entire home/apt   \n",
       "2      353a68be-ecf9-4b7b-9533-c882dc2f0760  Entire home/apt   \n",
       "3      b9ae1908-0486-40ac-bbcf-bd63ffebfe63  Entire home/apt   \n",
       "4      fa0290ef-7881-4482-8981-8ebb1ce5dbfd  Entire home/apt   \n",
       "...                                     ...              ...   \n",
       "13033  3e1d677a-c953-4c97-96f0-78011d52c468  Entire home/apt   \n",
       "13034  78f65154-4217-4985-ab65-a5935a8c195f  Entire home/apt   \n",
       "13035  31f9f27a-077d-47c6-90f9-324ec9d76d35  Entire home/apt   \n",
       "13036  8cd6b783-e305-4988-a3bd-da1c2523d364  Entire home/apt   \n",
       "13037  f833aa40-edf6-4ddc-b64d-96417dfa6ea2  Entire home/apt   \n",
       "\n",
       "      listing_neighborhood  total_reviews  \n",
       "0                -unknown-            0.0  \n",
       "1               Copacabana            0.0  \n",
       "2          Barra da Tijuca            3.0  \n",
       "3                     Lapa            4.0  \n",
       "4                -unknown-            0.0  \n",
       "...                    ...            ...  \n",
       "13033           Copacabana          129.0  \n",
       "13034           Copacabana            0.0  \n",
       "13035                Lagoa            0.0  \n",
       "13036           Copacabana            0.0  \n",
       "13037              Ipanema            0.0  \n",
       "\n",
       "[13038 rows x 4 columns]"
      ]
     },
     "execution_count": 45,
     "metadata": {},
     "output_type": "execute_result"
    }
   ],
   "source": [
    "listings"
   ]
  },
  {
   "cell_type": "code",
   "execution_count": 9,
   "id": "115d92be",
   "metadata": {},
   "outputs": [
    {
     "name": "stdout",
     "output_type": "stream",
     "text": [
      "<class 'pandas.core.frame.DataFrame'>\n",
      "RangeIndex: 27887 entries, 0 to 27886\n",
      "Data columns (total 14 columns):\n",
      " #   Column                                Non-Null Count  Dtype         \n",
      "---  ------                                --------------  -----         \n",
      " 0   id_guest_anon                         27887 non-null  object        \n",
      " 1   id_host_anon                          27887 non-null  object        \n",
      " 2   id_listing_anon                       27887 non-null  object        \n",
      " 3   ts_interaction_first                  27887 non-null  datetime64[ns]\n",
      " 4   ts_reply_at_first                     25855 non-null  datetime64[ns]\n",
      " 5   ts_accepted_at_first                  16415 non-null  datetime64[ns]\n",
      " 6   ts_booking_at                         11587 non-null  datetime64[ns]\n",
      " 7   ds_checkin_first                      27887 non-null  datetime64[ns]\n",
      " 8   ds_checkout_first                     27887 non-null  datetime64[ns]\n",
      " 9   m_guests                              27886 non-null  float64       \n",
      " 10  m_interactions                        27887 non-null  int64         \n",
      " 11  m_first_message_length_in_characters  27887 non-null  float64       \n",
      " 12  contact_channel_first                 27887 non-null  object        \n",
      " 13  guest_user_stage_first                27887 non-null  object        \n",
      "dtypes: datetime64[ns](6), float64(2), int64(1), object(5)\n",
      "memory usage: 3.0+ MB\n"
     ]
    }
   ],
   "source": [
    "contacts.info()"
   ]
  },
  {
   "cell_type": "markdown",
   "id": "c0f17742",
   "metadata": {},
   "source": [
    "## Your Analysis below 👨🏻‍💻"
   ]
  },
  {
   "cell_type": "code",
   "execution_count": 19,
   "id": "57f85273",
   "metadata": {},
   "outputs": [
    {
     "data": {
      "text/html": [
       "<div>\n",
       "<style scoped>\n",
       "    .dataframe tbody tr th:only-of-type {\n",
       "        vertical-align: middle;\n",
       "    }\n",
       "\n",
       "    .dataframe tbody tr th {\n",
       "        vertical-align: top;\n",
       "    }\n",
       "\n",
       "    .dataframe thead th {\n",
       "        text-align: right;\n",
       "    }\n",
       "</style>\n",
       "<table border=\"1\" class=\"dataframe\">\n",
       "  <thead>\n",
       "    <tr style=\"text-align: right;\">\n",
       "      <th></th>\n",
       "      <th>id_guest_anon</th>\n",
       "      <th>id_host_anon</th>\n",
       "      <th>id_listing_anon</th>\n",
       "      <th>ts_interaction_first</th>\n",
       "      <th>ts_reply_at_first</th>\n",
       "      <th>ts_accepted_at_first</th>\n",
       "      <th>ts_booking_at</th>\n",
       "      <th>ds_checkin_first</th>\n",
       "      <th>ds_checkout_first</th>\n",
       "      <th>m_guests</th>\n",
       "      <th>m_interactions</th>\n",
       "      <th>m_first_message_length_in_characters</th>\n",
       "      <th>contact_channel_first</th>\n",
       "      <th>guest_user_stage_first</th>\n",
       "    </tr>\n",
       "  </thead>\n",
       "  <tbody>\n",
       "    <tr>\n",
       "      <th>0</th>\n",
       "      <td>da8656a1-51af-4f38-b1c4-94be1f585157</td>\n",
       "      <td>5426897d-960d-4013-9e38-606ae746793c</td>\n",
       "      <td>a408a8b2-0d44-4513-a611-3736d0409bb2</td>\n",
       "      <td>2016-04-21 02:55:53</td>\n",
       "      <td>2016-04-21 03:15:00</td>\n",
       "      <td>2016-04-21 03:15:00</td>\n",
       "      <td>2016-04-21 03:15:00</td>\n",
       "      <td>2016-08-02</td>\n",
       "      <td>2016-08-06</td>\n",
       "      <td>4.0</td>\n",
       "      <td>30</td>\n",
       "      <td>31.0</td>\n",
       "      <td>book_it</td>\n",
       "      <td>past_booker</td>\n",
       "    </tr>\n",
       "    <tr>\n",
       "      <th>1</th>\n",
       "      <td>8590d6f1-8bc9-4e8b-bdfb-de78f69fcf37</td>\n",
       "      <td>f30417c5-6df4-45ac-bfc2-6ad1cce398ab</td>\n",
       "      <td>e387c705-0aeb-464c-9375-ece63be6f006</td>\n",
       "      <td>2016-02-16 22:14:01</td>\n",
       "      <td>2016-02-16 23:37:36</td>\n",
       "      <td>NaT</td>\n",
       "      <td>NaT</td>\n",
       "      <td>2016-08-11</td>\n",
       "      <td>2016-08-22</td>\n",
       "      <td>5.0</td>\n",
       "      <td>2</td>\n",
       "      <td>312.0</td>\n",
       "      <td>contact_me</td>\n",
       "      <td>past_booker</td>\n",
       "    </tr>\n",
       "  </tbody>\n",
       "</table>\n",
       "</div>"
      ],
      "text/plain": [
       "                          id_guest_anon                          id_host_anon  \\\n",
       "0  da8656a1-51af-4f38-b1c4-94be1f585157  5426897d-960d-4013-9e38-606ae746793c   \n",
       "1  8590d6f1-8bc9-4e8b-bdfb-de78f69fcf37  f30417c5-6df4-45ac-bfc2-6ad1cce398ab   \n",
       "\n",
       "                        id_listing_anon ts_interaction_first  \\\n",
       "0  a408a8b2-0d44-4513-a611-3736d0409bb2  2016-04-21 02:55:53   \n",
       "1  e387c705-0aeb-464c-9375-ece63be6f006  2016-02-16 22:14:01   \n",
       "\n",
       "    ts_reply_at_first ts_accepted_at_first       ts_booking_at  \\\n",
       "0 2016-04-21 03:15:00  2016-04-21 03:15:00 2016-04-21 03:15:00   \n",
       "1 2016-02-16 23:37:36                  NaT                 NaT   \n",
       "\n",
       "  ds_checkin_first ds_checkout_first  m_guests  m_interactions  \\\n",
       "0       2016-08-02        2016-08-06       4.0              30   \n",
       "1       2016-08-11        2016-08-22       5.0               2   \n",
       "\n",
       "   m_first_message_length_in_characters contact_channel_first  \\\n",
       "0                                  31.0               book_it   \n",
       "1                                 312.0            contact_me   \n",
       "\n",
       "  guest_user_stage_first  \n",
       "0            past_booker  \n",
       "1            past_booker  "
      ]
     },
     "execution_count": 19,
     "metadata": {},
     "output_type": "execute_result"
    }
   ],
   "source": [
    "contacts.head(2)"
   ]
  },
  {
   "cell_type": "code",
   "execution_count": 35,
   "id": "e5bb0306",
   "metadata": {},
   "outputs": [
    {
     "data": {
      "text/html": [
       "<div>\n",
       "<style scoped>\n",
       "    .dataframe tbody tr th:only-of-type {\n",
       "        vertical-align: middle;\n",
       "    }\n",
       "\n",
       "    .dataframe tbody tr th {\n",
       "        vertical-align: top;\n",
       "    }\n",
       "\n",
       "    .dataframe thead th {\n",
       "        text-align: right;\n",
       "    }\n",
       "</style>\n",
       "<table border=\"1\" class=\"dataframe\">\n",
       "  <thead>\n",
       "    <tr style=\"text-align: right;\">\n",
       "      <th></th>\n",
       "      <th>index</th>\n",
       "      <th>contact_channel_first</th>\n",
       "    </tr>\n",
       "  </thead>\n",
       "  <tbody>\n",
       "    <tr>\n",
       "      <th>0</th>\n",
       "      <td>contact_me</td>\n",
       "      <td>12828</td>\n",
       "    </tr>\n",
       "    <tr>\n",
       "      <th>1</th>\n",
       "      <td>book_it</td>\n",
       "      <td>8366</td>\n",
       "    </tr>\n",
       "    <tr>\n",
       "      <th>2</th>\n",
       "      <td>instant_book</td>\n",
       "      <td>6693</td>\n",
       "    </tr>\n",
       "  </tbody>\n",
       "</table>\n",
       "</div>"
      ],
      "text/plain": [
       "          index  contact_channel_first\n",
       "0    contact_me                  12828\n",
       "1       book_it                   8366\n",
       "2  instant_book                   6693"
      ]
     },
     "execution_count": 35,
     "metadata": {},
     "output_type": "execute_result"
    }
   ],
   "source": [
    "contacts[\"contact_channel_first\"].value_counts().reset_index()"
   ]
  },
  {
   "cell_type": "code",
   "execution_count": 37,
   "id": "5a3f885b",
   "metadata": {},
   "outputs": [
    {
     "data": {
      "text/plain": [
       "<AxesSubplot: xlabel='index'>"
      ]
     },
     "execution_count": 37,
     "metadata": {},
     "output_type": "execute_result"
    },
    {
     "data": {
      "image/png": "[encoded data removed]",
      "text/plain": [
       "<Figure size 640x480 with 1 Axes>"
      ]
     },
     "metadata": {},
     "output_type": "display_data"
    }
   ],
   "source": [
    "contacts[\"contact_channel_first\"].value_counts().reset_index()\\\n",
    "    .plot(kind=\"bar\", x=\"index\")\n"
   ]
  },
  {
   "cell_type": "code",
   "execution_count": 32,
   "id": "b6190ea5",
   "metadata": {},
   "outputs": [],
   "source": [
    "contact_me_chn = contacts.query(\"contact_channel_first == 'contact_me'\")"
   ]
  },
  {
   "cell_type": "code",
   "execution_count": 4,
   "id": "f1f3eef9",
   "metadata": {},
   "outputs": [
    {
     "data": {
      "text/html": [
       "<div>\n",
       "<style scoped>\n",
       "    .dataframe tbody tr th:only-of-type {\n",
       "        vertical-align: middle;\n",
       "    }\n",
       "\n",
       "    .dataframe tbody tr th {\n",
       "        vertical-align: top;\n",
       "    }\n",
       "\n",
       "    .dataframe thead th {\n",
       "        text-align: right;\n",
       "    }\n",
       "</style>\n",
       "<table border=\"1\" class=\"dataframe\">\n",
       "  <thead>\n",
       "    <tr style=\"text-align: right;\">\n",
       "      <th></th>\n",
       "      <th>id_user_anon</th>\n",
       "      <th>country</th>\n",
       "      <th>words_in_user_profile</th>\n",
       "    </tr>\n",
       "  </thead>\n",
       "  <tbody>\n",
       "    <tr>\n",
       "      <th>0</th>\n",
       "      <td>1d16a001-31a2-494c-a101-1f7b308adc62</td>\n",
       "      <td>FR</td>\n",
       "      <td>0</td>\n",
       "    </tr>\n",
       "    <tr>\n",
       "      <th>1</th>\n",
       "      <td>42607e0a-86c0-472e-b633-9e192114e93c</td>\n",
       "      <td>AR</td>\n",
       "      <td>0</td>\n",
       "    </tr>\n",
       "    <tr>\n",
       "      <th>2</th>\n",
       "      <td>25f85eb5-a700-44e1-b142-4c076222198d</td>\n",
       "      <td>BR</td>\n",
       "      <td>0</td>\n",
       "    </tr>\n",
       "    <tr>\n",
       "      <th>3</th>\n",
       "      <td>55abeba0-18ef-4c58-80f4-3c278b706aca</td>\n",
       "      <td>BR</td>\n",
       "      <td>1</td>\n",
       "    </tr>\n",
       "    <tr>\n",
       "      <th>4</th>\n",
       "      <td>5d62d35a-7d6d-45dd-ae9b-a5d2f82a7d7b</td>\n",
       "      <td>BR</td>\n",
       "      <td>98</td>\n",
       "    </tr>\n",
       "  </tbody>\n",
       "</table>\n",
       "</div>"
      ],
      "text/plain": [
       "                           id_user_anon country  words_in_user_profile\n",
       "0  1d16a001-31a2-494c-a101-1f7b308adc62      FR                      0\n",
       "1  42607e0a-86c0-472e-b633-9e192114e93c      AR                      0\n",
       "2  25f85eb5-a700-44e1-b142-4c076222198d      BR                      0\n",
       "3  55abeba0-18ef-4c58-80f4-3c278b706aca      BR                      1\n",
       "4  5d62d35a-7d6d-45dd-ae9b-a5d2f82a7d7b      BR                     98"
      ]
     },
     "execution_count": 4,
     "metadata": {},
     "output_type": "execute_result"
    }
   ],
   "source": []
  },
  {
   "cell_type": "code",
   "execution_count": 5,
   "id": "f804423a",
   "metadata": {},
   "outputs": [
    {
     "name": "stdout",
     "output_type": "stream",
     "text": [
      "<class 'pandas.core.frame.DataFrame'>\n",
      "RangeIndex: 27887 entries, 0 to 27886\n",
      "Data columns (total 14 columns):\n",
      " #   Column                                Non-Null Count  Dtype         \n",
      "---  ------                                --------------  -----         \n",
      " 0   id_guest_anon                         27887 non-null  object        \n",
      " 1   id_host_anon                          27887 non-null  object        \n",
      " 2   id_listing_anon                       27887 non-null  object        \n",
      " 3   ts_interaction_first                  27887 non-null  datetime64[ns]\n",
      " 4   ts_reply_at_first                     25855 non-null  datetime64[ns]\n",
      " 5   ts_accepted_at_first                  16415 non-null  datetime64[ns]\n",
      " 6   ts_booking_at                         11587 non-null  datetime64[ns]\n",
      " 7   ds_checkin_first                      27887 non-null  datetime64[ns]\n",
      " 8   ds_checkout_first                     27887 non-null  datetime64[ns]\n",
      " 9   m_guests                              27886 non-null  float64       \n",
      " 10  m_interactions                        27887 non-null  int64         \n",
      " 11  m_first_message_length_in_characters  27887 non-null  float64       \n",
      " 12  contact_channel_first                 27887 non-null  object        \n",
      " 13  guest_user_stage_first                27887 non-null  object        \n",
      "dtypes: datetime64[ns](6), float64(2), int64(1), object(5)\n",
      "memory usage: 3.0+ MB\n"
     ]
    }
   ],
   "source": [
    "contacts.info()"
   ]
  },
  {
   "cell_type": "markdown",
   "id": "aa9f715e",
   "metadata": {},
   "source": [
    "### Joining the contacts and listings table together based on the contacts dataset"
   ]
  },
  {
   "cell_type": "code",
   "execution_count": 42,
   "id": "fead4665",
   "metadata": {},
   "outputs": [],
   "source": [
    "df_listings_contacts = pd.merge(left=contacts, right=listings, on=\"id_listing_anon\", how=\"left\")\n"
   ]
  },
  {
   "cell_type": "code",
   "execution_count": 43,
   "id": "aa2c8c90",
   "metadata": {},
   "outputs": [
    {
     "data": {
      "text/html": [
       "<div>\n",
       "<style scoped>\n",
       "    .dataframe tbody tr th:only-of-type {\n",
       "        vertical-align: middle;\n",
       "    }\n",
       "\n",
       "    .dataframe tbody tr th {\n",
       "        vertical-align: top;\n",
       "    }\n",
       "\n",
       "    .dataframe thead th {\n",
       "        text-align: right;\n",
       "    }\n",
       "</style>\n",
       "<table border=\"1\" class=\"dataframe\">\n",
       "  <thead>\n",
       "    <tr style=\"text-align: right;\">\n",
       "      <th></th>\n",
       "      <th>id_guest_anon</th>\n",
       "      <th>id_host_anon</th>\n",
       "      <th>id_listing_anon</th>\n",
       "      <th>ts_interaction_first</th>\n",
       "      <th>ts_reply_at_first</th>\n",
       "      <th>ts_accepted_at_first</th>\n",
       "      <th>ts_booking_at</th>\n",
       "      <th>ds_checkin_first</th>\n",
       "      <th>ds_checkout_first</th>\n",
       "      <th>m_guests</th>\n",
       "      <th>m_interactions</th>\n",
       "      <th>m_first_message_length_in_characters</th>\n",
       "      <th>contact_channel_first</th>\n",
       "      <th>guest_user_stage_first</th>\n",
       "      <th>room_type</th>\n",
       "      <th>listing_neighborhood</th>\n",
       "      <th>total_reviews</th>\n",
       "    </tr>\n",
       "  </thead>\n",
       "  <tbody>\n",
       "    <tr>\n",
       "      <th>0</th>\n",
       "      <td>da8656a1-51af-4f38-b1c4-94be1f585157</td>\n",
       "      <td>5426897d-960d-4013-9e38-606ae746793c</td>\n",
       "      <td>a408a8b2-0d44-4513-a611-3736d0409bb2</td>\n",
       "      <td>2016-04-21 02:55:53</td>\n",
       "      <td>2016-04-21 03:15:00</td>\n",
       "      <td>2016-04-21 03:15:00</td>\n",
       "      <td>2016-04-21 03:15:00</td>\n",
       "      <td>2016-08-02</td>\n",
       "      <td>2016-08-06</td>\n",
       "      <td>4.0</td>\n",
       "      <td>30</td>\n",
       "      <td>31.0</td>\n",
       "      <td>book_it</td>\n",
       "      <td>past_booker</td>\n",
       "      <td>Entire home/apt</td>\n",
       "      <td>Copacabana</td>\n",
       "      <td>9.0</td>\n",
       "    </tr>\n",
       "    <tr>\n",
       "      <th>1</th>\n",
       "      <td>8590d6f1-8bc9-4e8b-bdfb-de78f69fcf37</td>\n",
       "      <td>f30417c5-6df4-45ac-bfc2-6ad1cce398ab</td>\n",
       "      <td>e387c705-0aeb-464c-9375-ece63be6f006</td>\n",
       "      <td>2016-02-16 22:14:01</td>\n",
       "      <td>2016-02-16 23:37:36</td>\n",
       "      <td>NaT</td>\n",
       "      <td>NaT</td>\n",
       "      <td>2016-08-11</td>\n",
       "      <td>2016-08-22</td>\n",
       "      <td>5.0</td>\n",
       "      <td>2</td>\n",
       "      <td>312.0</td>\n",
       "      <td>contact_me</td>\n",
       "      <td>past_booker</td>\n",
       "      <td>Entire home/apt</td>\n",
       "      <td>Copacabana</td>\n",
       "      <td>0.0</td>\n",
       "    </tr>\n",
       "    <tr>\n",
       "      <th>2</th>\n",
       "      <td>ebcd83ba-bda1-47eb-9680-2dd04ccf3988</td>\n",
       "      <td>13cbf50a-3272-45d4-9866-a06b6ea1b99a</td>\n",
       "      <td>d1eb1960-938f-4305-a353-51e224414dd4</td>\n",
       "      <td>2016-01-27 23:33:38</td>\n",
       "      <td>2016-01-28 02:12:47</td>\n",
       "      <td>NaT</td>\n",
       "      <td>NaT</td>\n",
       "      <td>2016-03-14</td>\n",
       "      <td>2016-03-23</td>\n",
       "      <td>1.0</td>\n",
       "      <td>3</td>\n",
       "      <td>164.0</td>\n",
       "      <td>contact_me</td>\n",
       "      <td>new</td>\n",
       "      <td>Private room</td>\n",
       "      <td>Vidigal</td>\n",
       "      <td>49.0</td>\n",
       "    </tr>\n",
       "    <tr>\n",
       "      <th>3</th>\n",
       "      <td>b0af8848-fe2a-4ef1-991e-26ab3066feb3</td>\n",
       "      <td>01614601-d5a4-4776-ab9b-c10d3b865bf0</td>\n",
       "      <td>855f6779-346c-45fc-a64b-ea133250ca7a</td>\n",
       "      <td>2016-05-05 14:42:52</td>\n",
       "      <td>2016-05-05 15:17:40</td>\n",
       "      <td>2016-05-05 15:17:40</td>\n",
       "      <td>NaT</td>\n",
       "      <td>2016-05-27</td>\n",
       "      <td>2016-05-29</td>\n",
       "      <td>2.0</td>\n",
       "      <td>3</td>\n",
       "      <td>203.0</td>\n",
       "      <td>contact_me</td>\n",
       "      <td>new</td>\n",
       "      <td>Entire home/apt</td>\n",
       "      <td>Copacabana</td>\n",
       "      <td>17.0</td>\n",
       "    </tr>\n",
       "    <tr>\n",
       "      <th>4</th>\n",
       "      <td>5ddbbcc3-ac1a-4d8a-b6f8-0f675b76d1b2</td>\n",
       "      <td>f2fed6f3-4c5c-453d-9e64-37c62b8bd06d</td>\n",
       "      <td>f2928a59-c5e7-42b2-9c37-240a40f38dc0</td>\n",
       "      <td>2016-06-23 03:09:25</td>\n",
       "      <td>2016-06-23 03:09:26</td>\n",
       "      <td>2016-06-23 03:09:33</td>\n",
       "      <td>2016-06-23 03:09:33</td>\n",
       "      <td>2016-08-19</td>\n",
       "      <td>2016-08-21</td>\n",
       "      <td>3.0</td>\n",
       "      <td>25</td>\n",
       "      <td>0.0</td>\n",
       "      <td>instant_book</td>\n",
       "      <td>past_booker</td>\n",
       "      <td>Entire home/apt</td>\n",
       "      <td>Ipanema</td>\n",
       "      <td>1.0</td>\n",
       "    </tr>\n",
       "    <tr>\n",
       "      <th>...</th>\n",
       "      <td>...</td>\n",
       "      <td>...</td>\n",
       "      <td>...</td>\n",
       "      <td>...</td>\n",
       "      <td>...</td>\n",
       "      <td>...</td>\n",
       "      <td>...</td>\n",
       "      <td>...</td>\n",
       "      <td>...</td>\n",
       "      <td>...</td>\n",
       "      <td>...</td>\n",
       "      <td>...</td>\n",
       "      <td>...</td>\n",
       "      <td>...</td>\n",
       "      <td>...</td>\n",
       "      <td>...</td>\n",
       "      <td>...</td>\n",
       "    </tr>\n",
       "    <tr>\n",
       "      <th>27882</th>\n",
       "      <td>b4fea538-8266-4b19-b211-5d93c3e6d05b</td>\n",
       "      <td>b328e13e-b11c-4a63-a137-daa527958c49</td>\n",
       "      <td>78e86cac-d1d5-46ef-889f-d3f19b068afb</td>\n",
       "      <td>2016-01-21 00:14:24</td>\n",
       "      <td>2016-01-21 00:42:53</td>\n",
       "      <td>NaT</td>\n",
       "      <td>NaT</td>\n",
       "      <td>2016-01-22</td>\n",
       "      <td>2016-01-31</td>\n",
       "      <td>1.0</td>\n",
       "      <td>4</td>\n",
       "      <td>447.0</td>\n",
       "      <td>contact_me</td>\n",
       "      <td>past_booker</td>\n",
       "      <td>Entire home/apt</td>\n",
       "      <td>-unknown-</td>\n",
       "      <td>5.0</td>\n",
       "    </tr>\n",
       "    <tr>\n",
       "      <th>27883</th>\n",
       "      <td>0894f35e-442a-40f5-b908-b07016e6d6ff</td>\n",
       "      <td>d54423d3-776e-4978-b6c0-7cf59c76ec3c</td>\n",
       "      <td>2e00192a-786d-4202-bd07-80f2e69b00cd</td>\n",
       "      <td>2016-04-11 18:21:26</td>\n",
       "      <td>2016-04-11 18:21:26</td>\n",
       "      <td>2016-04-11 18:21:26</td>\n",
       "      <td>2016-04-11 18:21:26</td>\n",
       "      <td>2016-06-08</td>\n",
       "      <td>2016-06-11</td>\n",
       "      <td>2.0</td>\n",
       "      <td>21</td>\n",
       "      <td>0.0</td>\n",
       "      <td>instant_book</td>\n",
       "      <td>past_booker</td>\n",
       "      <td>Entire home/apt</td>\n",
       "      <td>Barra da Tijuca</td>\n",
       "      <td>26.0</td>\n",
       "    </tr>\n",
       "    <tr>\n",
       "      <th>27884</th>\n",
       "      <td>d75edd43-0810-4b35-8b1e-5ab8271d48a9</td>\n",
       "      <td>63124840-6516-459c-95ed-108f0d5cef41</td>\n",
       "      <td>9992dc76-c770-4db9-86a2-a4edbd1147f3</td>\n",
       "      <td>2016-02-24 12:19:31</td>\n",
       "      <td>2016-02-24 12:19:39</td>\n",
       "      <td>2016-03-02 01:51:02</td>\n",
       "      <td>NaT</td>\n",
       "      <td>2016-08-18</td>\n",
       "      <td>2016-08-22</td>\n",
       "      <td>2.0</td>\n",
       "      <td>5</td>\n",
       "      <td>74.0</td>\n",
       "      <td>contact_me</td>\n",
       "      <td>new</td>\n",
       "      <td>Private room</td>\n",
       "      <td>Copacabana</td>\n",
       "      <td>13.0</td>\n",
       "    </tr>\n",
       "    <tr>\n",
       "      <th>27885</th>\n",
       "      <td>a997e85d-52cc-4bcc-97b3-e4c70e29721b</td>\n",
       "      <td>efa7ea8b-e78c-48d1-abfd-1dfc06c48e61</td>\n",
       "      <td>bc7545c3-8491-44ab-be64-f73d92b944ac</td>\n",
       "      <td>2016-02-08 08:13:08</td>\n",
       "      <td>2016-02-08 08:13:08</td>\n",
       "      <td>2016-02-08 08:13:08</td>\n",
       "      <td>2016-02-08 08:13:08</td>\n",
       "      <td>2016-03-06</td>\n",
       "      <td>2016-03-08</td>\n",
       "      <td>1.0</td>\n",
       "      <td>20</td>\n",
       "      <td>163.0</td>\n",
       "      <td>instant_book</td>\n",
       "      <td>past_booker</td>\n",
       "      <td>Entire home/apt</td>\n",
       "      <td>Ipanema</td>\n",
       "      <td>41.0</td>\n",
       "    </tr>\n",
       "    <tr>\n",
       "      <th>27886</th>\n",
       "      <td>84bbccd5-3857-4f95-93a4-a4cf45220c74</td>\n",
       "      <td>3888b79f-317d-4f14-95e1-4afaa87cdea3</td>\n",
       "      <td>bf28436e-34b6-4aac-a90a-935a18ed3fb1</td>\n",
       "      <td>2016-06-08 11:59:42</td>\n",
       "      <td>2016-06-08 11:59:42</td>\n",
       "      <td>2016-06-08 11:59:42</td>\n",
       "      <td>2016-06-08 11:59:42</td>\n",
       "      <td>2016-09-25</td>\n",
       "      <td>2016-10-04</td>\n",
       "      <td>2.0</td>\n",
       "      <td>12</td>\n",
       "      <td>252.0</td>\n",
       "      <td>instant_book</td>\n",
       "      <td>new</td>\n",
       "      <td>Private room</td>\n",
       "      <td>Leme</td>\n",
       "      <td>58.0</td>\n",
       "    </tr>\n",
       "  </tbody>\n",
       "</table>\n",
       "<p>27887 rows × 17 columns</p>\n",
       "</div>"
      ],
      "text/plain": [
       "                              id_guest_anon  \\\n",
       "0      da8656a1-51af-4f38-b1c4-94be1f585157   \n",
       "1      8590d6f1-8bc9-4e8b-bdfb-de78f69fcf37   \n",
       "2      ebcd83ba-bda1-47eb-9680-2dd04ccf3988   \n",
       "3      b0af8848-fe2a-4ef1-991e-26ab3066feb3   \n",
       "4      5ddbbcc3-ac1a-4d8a-b6f8-0f675b76d1b2   \n",
       "...                                     ...   \n",
       "27882  b4fea538-8266-4b19-b211-5d93c3e6d05b   \n",
       "27883  0894f35e-442a-40f5-b908-b07016e6d6ff   \n",
       "27884  d75edd43-0810-4b35-8b1e-5ab8271d48a9   \n",
       "27885  a997e85d-52cc-4bcc-97b3-e4c70e29721b   \n",
       "27886  84bbccd5-3857-4f95-93a4-a4cf45220c74   \n",
       "\n",
       "                               id_host_anon  \\\n",
       "0      5426897d-960d-4013-9e38-606ae746793c   \n",
       "1      f30417c5-6df4-45ac-bfc2-6ad1cce398ab   \n",
       "2      13cbf50a-3272-45d4-9866-a06b6ea1b99a   \n",
       "3      01614601-d5a4-4776-ab9b-c10d3b865bf0   \n",
       "4      f2fed6f3-4c5c-453d-9e64-37c62b8bd06d   \n",
       "...                                     ...   \n",
       "27882  b328e13e-b11c-4a63-a137-daa527958c49   \n",
       "27883  d54423d3-776e-4978-b6c0-7cf59c76ec3c   \n",
       "27884  63124840-6516-459c-95ed-108f0d5cef41   \n",
       "27885  efa7ea8b-e78c-48d1-abfd-1dfc06c48e61   \n",
       "27886  3888b79f-317d-4f14-95e1-4afaa87cdea3   \n",
       "\n",
       "                            id_listing_anon ts_interaction_first  \\\n",
       "0      a408a8b2-0d44-4513-a611-3736d0409bb2  2016-04-21 02:55:53   \n",
       "1      e387c705-0aeb-464c-9375-ece63be6f006  2016-02-16 22:14:01   \n",
       "2      d1eb1960-938f-4305-a353-51e224414dd4  2016-01-27 23:33:38   \n",
       "3      855f6779-346c-45fc-a64b-ea133250ca7a  2016-05-05 14:42:52   \n",
       "4      f2928a59-c5e7-42b2-9c37-240a40f38dc0  2016-06-23 03:09:25   \n",
       "...                                     ...                  ...   \n",
       "27882  78e86cac-d1d5-46ef-889f-d3f19b068afb  2016-01-21 00:14:24   \n",
       "27883  2e00192a-786d-4202-bd07-80f2e69b00cd  2016-04-11 18:21:26   \n",
       "27884  9992dc76-c770-4db9-86a2-a4edbd1147f3  2016-02-24 12:19:31   \n",
       "27885  bc7545c3-8491-44ab-be64-f73d92b944ac  2016-02-08 08:13:08   \n",
       "27886  bf28436e-34b6-4aac-a90a-935a18ed3fb1  2016-06-08 11:59:42   \n",
       "\n",
       "        ts_reply_at_first ts_accepted_at_first       ts_booking_at  \\\n",
       "0     2016-04-21 03:15:00  2016-04-21 03:15:00 2016-04-21 03:15:00   \n",
       "1     2016-02-16 23:37:36                  NaT                 NaT   \n",
       "2     2016-01-28 02:12:47                  NaT                 NaT   \n",
       "3     2016-05-05 15:17:40  2016-05-05 15:17:40                 NaT   \n",
       "4     2016-06-23 03:09:26  2016-06-23 03:09:33 2016-06-23 03:09:33   \n",
       "...                   ...                  ...                 ...   \n",
       "27882 2016-01-21 00:42:53                  NaT                 NaT   \n",
       "27883 2016-04-11 18:21:26  2016-04-11 18:21:26 2016-04-11 18:21:26   \n",
       "27884 2016-02-24 12:19:39  2016-03-02 01:51:02                 NaT   \n",
       "27885 2016-02-08 08:13:08  2016-02-08 08:13:08 2016-02-08 08:13:08   \n",
       "27886 2016-06-08 11:59:42  2016-06-08 11:59:42 2016-06-08 11:59:42   \n",
       "\n",
       "      ds_checkin_first ds_checkout_first  m_guests  m_interactions  \\\n",
       "0           2016-08-02        2016-08-06       4.0              30   \n",
       "1           2016-08-11        2016-08-22       5.0               2   \n",
       "2           2016-03-14        2016-03-23       1.0               3   \n",
       "3           2016-05-27        2016-05-29       2.0               3   \n",
       "4           2016-08-19        2016-08-21       3.0              25   \n",
       "...                ...               ...       ...             ...   \n",
       "27882       2016-01-22        2016-01-31       1.0               4   \n",
       "27883       2016-06-08        2016-06-11       2.0              21   \n",
       "27884       2016-08-18        2016-08-22       2.0               5   \n",
       "27885       2016-03-06        2016-03-08       1.0              20   \n",
       "27886       2016-09-25        2016-10-04       2.0              12   \n",
       "\n",
       "       m_first_message_length_in_characters contact_channel_first  \\\n",
       "0                                      31.0               book_it   \n",
       "1                                     312.0            contact_me   \n",
       "2                                     164.0            contact_me   \n",
       "3                                     203.0            contact_me   \n",
       "4                                       0.0          instant_book   \n",
       "...                                     ...                   ...   \n",
       "27882                                 447.0            contact_me   \n",
       "27883                                   0.0          instant_book   \n",
       "27884                                  74.0            contact_me   \n",
       "27885                                 163.0          instant_book   \n",
       "27886                                 252.0          instant_book   \n",
       "\n",
       "      guest_user_stage_first        room_type listing_neighborhood  \\\n",
       "0                past_booker  Entire home/apt           Copacabana   \n",
       "1                past_booker  Entire home/apt           Copacabana   \n",
       "2                        new     Private room              Vidigal   \n",
       "3                        new  Entire home/apt           Copacabana   \n",
       "4                past_booker  Entire home/apt              Ipanema   \n",
       "...                      ...              ...                  ...   \n",
       "27882            past_booker  Entire home/apt            -unknown-   \n",
       "27883            past_booker  Entire home/apt      Barra da Tijuca   \n",
       "27884                    new     Private room           Copacabana   \n",
       "27885            past_booker  Entire home/apt              Ipanema   \n",
       "27886                    new     Private room                 Leme   \n",
       "\n",
       "       total_reviews  \n",
       "0                9.0  \n",
       "1                0.0  \n",
       "2               49.0  \n",
       "3               17.0  \n",
       "4                1.0  \n",
       "...              ...  \n",
       "27882            5.0  \n",
       "27883           26.0  \n",
       "27884           13.0  \n",
       "27885           41.0  \n",
       "27886           58.0  \n",
       "\n",
       "[27887 rows x 17 columns]"
      ]
     },
     "execution_count": 43,
     "metadata": {},
     "output_type": "execute_result"
    }
   ],
   "source": [
    "df_listings_contacts"
   ]
  },
  {
   "cell_type": "markdown",
   "id": "9e4e3298",
   "metadata": {},
   "source": [
    "### Renaming the user_id column to match the listings dataset "
   ]
  },
  {
   "cell_type": "code",
   "execution_count": 8,
   "id": "f4e3e6c0",
   "metadata": {},
   "outputs": [
    {
     "data": {
      "text/html": [
       "<div>\n",
       "<style scoped>\n",
       "    .dataframe tbody tr th:only-of-type {\n",
       "        vertical-align: middle;\n",
       "    }\n",
       "\n",
       "    .dataframe tbody tr th {\n",
       "        vertical-align: top;\n",
       "    }\n",
       "\n",
       "    .dataframe thead th {\n",
       "        text-align: right;\n",
       "    }\n",
       "</style>\n",
       "<table border=\"1\" class=\"dataframe\">\n",
       "  <thead>\n",
       "    <tr style=\"text-align: right;\">\n",
       "      <th></th>\n",
       "      <th>id_guest_anon</th>\n",
       "      <th>country</th>\n",
       "      <th>words_in_user_profile</th>\n",
       "    </tr>\n",
       "  </thead>\n",
       "  <tbody>\n",
       "    <tr>\n",
       "      <th>0</th>\n",
       "      <td>1d16a001-31a2-494c-a101-1f7b308adc62</td>\n",
       "      <td>FR</td>\n",
       "      <td>0</td>\n",
       "    </tr>\n",
       "    <tr>\n",
       "      <th>1</th>\n",
       "      <td>42607e0a-86c0-472e-b633-9e192114e93c</td>\n",
       "      <td>AR</td>\n",
       "      <td>0</td>\n",
       "    </tr>\n",
       "    <tr>\n",
       "      <th>2</th>\n",
       "      <td>25f85eb5-a700-44e1-b142-4c076222198d</td>\n",
       "      <td>BR</td>\n",
       "      <td>0</td>\n",
       "    </tr>\n",
       "    <tr>\n",
       "      <th>3</th>\n",
       "      <td>55abeba0-18ef-4c58-80f4-3c278b706aca</td>\n",
       "      <td>BR</td>\n",
       "      <td>1</td>\n",
       "    </tr>\n",
       "    <tr>\n",
       "      <th>4</th>\n",
       "      <td>5d62d35a-7d6d-45dd-ae9b-a5d2f82a7d7b</td>\n",
       "      <td>BR</td>\n",
       "      <td>98</td>\n",
       "    </tr>\n",
       "  </tbody>\n",
       "</table>\n",
       "</div>"
      ],
      "text/plain": [
       "                          id_guest_anon country  words_in_user_profile\n",
       "0  1d16a001-31a2-494c-a101-1f7b308adc62      FR                      0\n",
       "1  42607e0a-86c0-472e-b633-9e192114e93c      AR                      0\n",
       "2  25f85eb5-a700-44e1-b142-4c076222198d      BR                      0\n",
       "3  55abeba0-18ef-4c58-80f4-3c278b706aca      BR                      1\n",
       "4  5d62d35a-7d6d-45dd-ae9b-a5d2f82a7d7b      BR                     98"
      ]
     },
     "execution_count": 8,
     "metadata": {},
     "output_type": "execute_result"
    }
   ],
   "source": [
    "users = users.rename(columns={'id_user_anon': 'id_guest_anon'})\n",
    "users.head()"
   ]
  },
  {
   "cell_type": "markdown",
   "id": "bfd51dfa",
   "metadata": {},
   "source": [
    "### dropping the duplicated rows in users dataset "
   ]
  },
  {
   "cell_type": "code",
   "execution_count": 9,
   "id": "96d8eedf",
   "metadata": {},
   "outputs": [
    {
     "data": {
      "text/plain": [
       "68"
      ]
     },
     "execution_count": 9,
     "metadata": {},
     "output_type": "execute_result"
    }
   ],
   "source": [
    "users.duplicated().sum()"
   ]
  },
  {
   "cell_type": "code",
   "execution_count": 10,
   "id": "abc2046c",
   "metadata": {},
   "outputs": [],
   "source": [
    "users = users.drop_duplicates()"
   ]
  },
  {
   "cell_type": "code",
   "execution_count": 11,
   "id": "f50d85e7",
   "metadata": {},
   "outputs": [
    {
     "data": {
      "text/plain": [
       "0"
      ]
     },
     "execution_count": 11,
     "metadata": {},
     "output_type": "execute_result"
    }
   ],
   "source": [
    "users.duplicated().sum()"
   ]
  },
  {
   "cell_type": "markdown",
   "id": "1266cb4b",
   "metadata": {},
   "source": [
    "### Joining the User table to the previous joined table "
   ]
  },
  {
   "cell_type": "code",
   "execution_count": 39,
   "id": "47593aec",
   "metadata": {},
   "outputs": [
    {
     "ename": "NameError",
     "evalue": "name 'df_listings_contacts' is not defined",
     "output_type": "error",
     "traceback": [
      "\u001b[0;31m---------------------------------------------------------------------------\u001b[0m",
      "\u001b[0;31mNameError\u001b[0m                                 Traceback (most recent call last)",
      "Cell \u001b[0;32mIn[39], line 1\u001b[0m\n\u001b[0;32m----> 1\u001b[0m df_lst_cnct_usr \u001b[38;5;241m=\u001b[39m pd\u001b[38;5;241m.\u001b[39mmerge(left\u001b[38;5;241m=\u001b[39m\u001b[43mdf_listings_contacts\u001b[49m, right\u001b[38;5;241m=\u001b[39musers, on\u001b[38;5;241m=\u001b[39m\u001b[38;5;124m\"\u001b[39m\u001b[38;5;124mid_guest_anon\u001b[39m\u001b[38;5;124m\"\u001b[39m, how\u001b[38;5;241m=\u001b[39m\u001b[38;5;124m\"\u001b[39m\u001b[38;5;124mleft\u001b[39m\u001b[38;5;124m\"\u001b[39m)\n",
      "\u001b[0;31mNameError\u001b[0m: name 'df_listings_contacts' is not defined"
     ]
    }
   ],
   "source": [
    "df_lst_cnct_usr = pd.merge(left=df_listings_contacts, right=users, on=\"id_guest_anon\", how=\"left\")\n",
    "\n"
   ]
  },
  {
   "cell_type": "code",
   "execution_count": 13,
   "id": "5572c56d",
   "metadata": {},
   "outputs": [
    {
     "data": {
      "text/html": [
       "<div>\n",
       "<style scoped>\n",
       "    .dataframe tbody tr th:only-of-type {\n",
       "        vertical-align: middle;\n",
       "    }\n",
       "\n",
       "    .dataframe tbody tr th {\n",
       "        vertical-align: top;\n",
       "    }\n",
       "\n",
       "    .dataframe thead th {\n",
       "        text-align: right;\n",
       "    }\n",
       "</style>\n",
       "<table border=\"1\" class=\"dataframe\">\n",
       "  <thead>\n",
       "    <tr style=\"text-align: right;\">\n",
       "      <th></th>\n",
       "      <th>id_guest_anon</th>\n",
       "      <th>id_host_anon</th>\n",
       "      <th>id_listing_anon</th>\n",
       "      <th>ts_interaction_first</th>\n",
       "      <th>ts_reply_at_first</th>\n",
       "      <th>ts_accepted_at_first</th>\n",
       "      <th>ts_booking_at</th>\n",
       "      <th>ds_checkin_first</th>\n",
       "      <th>ds_checkout_first</th>\n",
       "      <th>m_guests</th>\n",
       "      <th>m_interactions</th>\n",
       "      <th>m_first_message_length_in_characters</th>\n",
       "      <th>contact_channel_first</th>\n",
       "      <th>guest_user_stage_first</th>\n",
       "      <th>room_type</th>\n",
       "      <th>listing_neighborhood</th>\n",
       "      <th>total_reviews</th>\n",
       "      <th>country</th>\n",
       "      <th>words_in_user_profile</th>\n",
       "    </tr>\n",
       "  </thead>\n",
       "  <tbody>\n",
       "    <tr>\n",
       "      <th>0</th>\n",
       "      <td>da8656a1-51af-4f38-b1c4-94be1f585157</td>\n",
       "      <td>5426897d-960d-4013-9e38-606ae746793c</td>\n",
       "      <td>a408a8b2-0d44-4513-a611-3736d0409bb2</td>\n",
       "      <td>2016-04-21 02:55:53</td>\n",
       "      <td>2016-04-21 03:15:00</td>\n",
       "      <td>2016-04-21 03:15:00</td>\n",
       "      <td>2016-04-21 03:15:00</td>\n",
       "      <td>2016-08-02</td>\n",
       "      <td>2016-08-06</td>\n",
       "      <td>4.0</td>\n",
       "      <td>30</td>\n",
       "      <td>31.0</td>\n",
       "      <td>book_it</td>\n",
       "      <td>past_booker</td>\n",
       "      <td>Entire home/apt</td>\n",
       "      <td>Copacabana</td>\n",
       "      <td>9.0</td>\n",
       "      <td>CL</td>\n",
       "      <td>0</td>\n",
       "    </tr>\n",
       "    <tr>\n",
       "      <th>1</th>\n",
       "      <td>8590d6f1-8bc9-4e8b-bdfb-de78f69fcf37</td>\n",
       "      <td>f30417c5-6df4-45ac-bfc2-6ad1cce398ab</td>\n",
       "      <td>e387c705-0aeb-464c-9375-ece63be6f006</td>\n",
       "      <td>2016-02-16 22:14:01</td>\n",
       "      <td>2016-02-16 23:37:36</td>\n",
       "      <td>NaT</td>\n",
       "      <td>NaT</td>\n",
       "      <td>2016-08-11</td>\n",
       "      <td>2016-08-22</td>\n",
       "      <td>5.0</td>\n",
       "      <td>2</td>\n",
       "      <td>312.0</td>\n",
       "      <td>contact_me</td>\n",
       "      <td>past_booker</td>\n",
       "      <td>Entire home/apt</td>\n",
       "      <td>Copacabana</td>\n",
       "      <td>0.0</td>\n",
       "      <td>FR</td>\n",
       "      <td>0</td>\n",
       "    </tr>\n",
       "    <tr>\n",
       "      <th>2</th>\n",
       "      <td>ebcd83ba-bda1-47eb-9680-2dd04ccf3988</td>\n",
       "      <td>13cbf50a-3272-45d4-9866-a06b6ea1b99a</td>\n",
       "      <td>d1eb1960-938f-4305-a353-51e224414dd4</td>\n",
       "      <td>2016-01-27 23:33:38</td>\n",
       "      <td>2016-01-28 02:12:47</td>\n",
       "      <td>NaT</td>\n",
       "      <td>NaT</td>\n",
       "      <td>2016-03-14</td>\n",
       "      <td>2016-03-23</td>\n",
       "      <td>1.0</td>\n",
       "      <td>3</td>\n",
       "      <td>164.0</td>\n",
       "      <td>contact_me</td>\n",
       "      <td>new</td>\n",
       "      <td>Private room</td>\n",
       "      <td>Vidigal</td>\n",
       "      <td>49.0</td>\n",
       "      <td>AR</td>\n",
       "      <td>0</td>\n",
       "    </tr>\n",
       "    <tr>\n",
       "      <th>3</th>\n",
       "      <td>b0af8848-fe2a-4ef1-991e-26ab3066feb3</td>\n",
       "      <td>01614601-d5a4-4776-ab9b-c10d3b865bf0</td>\n",
       "      <td>855f6779-346c-45fc-a64b-ea133250ca7a</td>\n",
       "      <td>2016-05-05 14:42:52</td>\n",
       "      <td>2016-05-05 15:17:40</td>\n",
       "      <td>2016-05-05 15:17:40</td>\n",
       "      <td>NaT</td>\n",
       "      <td>2016-05-27</td>\n",
       "      <td>2016-05-29</td>\n",
       "      <td>2.0</td>\n",
       "      <td>3</td>\n",
       "      <td>203.0</td>\n",
       "      <td>contact_me</td>\n",
       "      <td>new</td>\n",
       "      <td>Entire home/apt</td>\n",
       "      <td>Copacabana</td>\n",
       "      <td>17.0</td>\n",
       "      <td>BR</td>\n",
       "      <td>0</td>\n",
       "    </tr>\n",
       "    <tr>\n",
       "      <th>4</th>\n",
       "      <td>5ddbbcc3-ac1a-4d8a-b6f8-0f675b76d1b2</td>\n",
       "      <td>f2fed6f3-4c5c-453d-9e64-37c62b8bd06d</td>\n",
       "      <td>f2928a59-c5e7-42b2-9c37-240a40f38dc0</td>\n",
       "      <td>2016-06-23 03:09:25</td>\n",
       "      <td>2016-06-23 03:09:26</td>\n",
       "      <td>2016-06-23 03:09:33</td>\n",
       "      <td>2016-06-23 03:09:33</td>\n",
       "      <td>2016-08-19</td>\n",
       "      <td>2016-08-21</td>\n",
       "      <td>3.0</td>\n",
       "      <td>25</td>\n",
       "      <td>0.0</td>\n",
       "      <td>instant_book</td>\n",
       "      <td>past_booker</td>\n",
       "      <td>Entire home/apt</td>\n",
       "      <td>Ipanema</td>\n",
       "      <td>1.0</td>\n",
       "      <td>BR</td>\n",
       "      <td>1</td>\n",
       "    </tr>\n",
       "  </tbody>\n",
       "</table>\n",
       "</div>"
      ],
      "text/plain": [
       "                          id_guest_anon                          id_host_anon  \\\n",
       "0  da8656a1-51af-4f38-b1c4-94be1f585157  5426897d-960d-4013-9e38-606ae746793c   \n",
       "1  8590d6f1-8bc9-4e8b-bdfb-de78f69fcf37  f30417c5-6df4-45ac-bfc2-6ad1cce398ab   \n",
       "2  ebcd83ba-bda1-47eb-9680-2dd04ccf3988  13cbf50a-3272-45d4-9866-a06b6ea1b99a   \n",
       "3  b0af8848-fe2a-4ef1-991e-26ab3066feb3  01614601-d5a4-4776-ab9b-c10d3b865bf0   \n",
       "4  5ddbbcc3-ac1a-4d8a-b6f8-0f675b76d1b2  f2fed6f3-4c5c-453d-9e64-37c62b8bd06d   \n",
       "\n",
       "                        id_listing_anon ts_interaction_first  \\\n",
       "0  a408a8b2-0d44-4513-a611-3736d0409bb2  2016-04-21 02:55:53   \n",
       "1  e387c705-0aeb-464c-9375-ece63be6f006  2016-02-16 22:14:01   \n",
       "2  d1eb1960-938f-4305-a353-51e224414dd4  2016-01-27 23:33:38   \n",
       "3  855f6779-346c-45fc-a64b-ea133250ca7a  2016-05-05 14:42:52   \n",
       "4  f2928a59-c5e7-42b2-9c37-240a40f38dc0  2016-06-23 03:09:25   \n",
       "\n",
       "    ts_reply_at_first ts_accepted_at_first       ts_booking_at  \\\n",
       "0 2016-04-21 03:15:00  2016-04-21 03:15:00 2016-04-21 03:15:00   \n",
       "1 2016-02-16 23:37:36                  NaT                 NaT   \n",
       "2 2016-01-28 02:12:47                  NaT                 NaT   \n",
       "3 2016-05-05 15:17:40  2016-05-05 15:17:40                 NaT   \n",
       "4 2016-06-23 03:09:26  2016-06-23 03:09:33 2016-06-23 03:09:33   \n",
       "\n",
       "  ds_checkin_first ds_checkout_first  m_guests  m_interactions  \\\n",
       "0       2016-08-02        2016-08-06       4.0              30   \n",
       "1       2016-08-11        2016-08-22       5.0               2   \n",
       "2       2016-03-14        2016-03-23       1.0               3   \n",
       "3       2016-05-27        2016-05-29       2.0               3   \n",
       "4       2016-08-19        2016-08-21       3.0              25   \n",
       "\n",
       "   m_first_message_length_in_characters contact_channel_first  \\\n",
       "0                                  31.0               book_it   \n",
       "1                                 312.0            contact_me   \n",
       "2                                 164.0            contact_me   \n",
       "3                                 203.0            contact_me   \n",
       "4                                   0.0          instant_book   \n",
       "\n",
       "  guest_user_stage_first        room_type listing_neighborhood  total_reviews  \\\n",
       "0            past_booker  Entire home/apt           Copacabana            9.0   \n",
       "1            past_booker  Entire home/apt           Copacabana            0.0   \n",
       "2                    new     Private room              Vidigal           49.0   \n",
       "3                    new  Entire home/apt           Copacabana           17.0   \n",
       "4            past_booker  Entire home/apt              Ipanema            1.0   \n",
       "\n",
       "  country  words_in_user_profile  \n",
       "0      CL                      0  \n",
       "1      FR                      0  \n",
       "2      AR                      0  \n",
       "3      BR                      0  \n",
       "4      BR                      1  "
      ]
     },
     "execution_count": 13,
     "metadata": {},
     "output_type": "execute_result"
    }
   ],
   "source": [
    "df_lst_cnct_usr.head()"
   ]
  },
  {
   "cell_type": "code",
   "execution_count": 14,
   "id": "d33ea80e",
   "metadata": {
    "scrolled": true
   },
   "outputs": [
    {
     "data": {
      "text/plain": [
       "id_guest_anon                               0\n",
       "id_host_anon                                0\n",
       "id_listing_anon                             0\n",
       "ts_interaction_first                        0\n",
       "ts_reply_at_first                        2032\n",
       "ts_accepted_at_first                    11472\n",
       "ts_booking_at                           16300\n",
       "ds_checkin_first                            0\n",
       "ds_checkout_first                           0\n",
       "m_guests                                    1\n",
       "m_interactions                              0\n",
       "m_first_message_length_in_characters        0\n",
       "contact_channel_first                       0\n",
       "guest_user_stage_first                      0\n",
       "room_type                                   0\n",
       "listing_neighborhood                        0\n",
       "total_reviews                               0\n",
       "country                                     1\n",
       "words_in_user_profile                       0\n",
       "dtype: int64"
      ]
     },
     "execution_count": 14,
     "metadata": {},
     "output_type": "execute_result"
    }
   ],
   "source": [
    "df_lst_cnct_usr.isnull().sum()"
   ]
  },
  {
   "cell_type": "code",
   "execution_count": 15,
   "id": "daea10e1",
   "metadata": {},
   "outputs": [
    {
     "data": {
      "text/plain": [
       "(27887, 19)"
      ]
     },
     "execution_count": 15,
     "metadata": {},
     "output_type": "execute_result"
    }
   ],
   "source": [
    "df_lst_cnct_usr.shape"
   ]
  },
  {
   "cell_type": "code",
   "execution_count": 16,
   "id": "c8a4fe04",
   "metadata": {},
   "outputs": [
    {
     "data": {
      "text/plain": [
       "(27887, 14)"
      ]
     },
     "execution_count": 16,
     "metadata": {},
     "output_type": "execute_result"
    }
   ],
   "source": [
    "contacts.shape"
   ]
  },
  {
   "cell_type": "markdown",
   "id": "edcbcc14",
   "metadata": {},
   "source": [
    "### adding a column for booking status - 1 for booked and 0 for not booked"
   ]
  },
  {
   "cell_type": "code",
   "execution_count": 17,
   "id": "fe9e557e",
   "metadata": {},
   "outputs": [
    {
     "data": {
      "text/plain": [
       "0         True\n",
       "1        False\n",
       "2        False\n",
       "3        False\n",
       "4         True\n",
       "         ...  \n",
       "27882    False\n",
       "27883     True\n",
       "27884    False\n",
       "27885     True\n",
       "27886     True\n",
       "Name: ts_booking_at, Length: 27887, dtype: bool"
      ]
     },
     "execution_count": 17,
     "metadata": {},
     "output_type": "execute_result"
    }
   ],
   "source": [
    "df_lst_cnct_usr[\"ts_booking_at\"].notnull()"
   ]
  },
  {
   "cell_type": "code",
   "execution_count": 18,
   "id": "2e74e442",
   "metadata": {},
   "outputs": [],
   "source": [
    "df_lst_cnct_usr[\"booked\"] = np.where(df_lst_cnct_usr[\"ts_booking_at\"].notnull(), 1, 0)"
   ]
  },
  {
   "cell_type": "markdown",
   "id": "a11cf235",
   "metadata": {},
   "source": [
    "### adding a column for msg replied and inquiry accepted - 1 for yes and 0 for no"
   ]
  },
  {
   "cell_type": "code",
   "execution_count": 19,
   "id": "0e6e358e",
   "metadata": {},
   "outputs": [],
   "source": [
    "df_lst_cnct_usr[\"msg_replied\"] = np.where(df_lst_cnct_usr[\"ts_reply_at_first\"].notnull(), 1, 0)"
   ]
  },
  {
   "cell_type": "code",
   "execution_count": 20,
   "id": "fd1eb35d",
   "metadata": {},
   "outputs": [],
   "source": [
    "df_lst_cnct_usr[\"accepted_inquiry\"] = np.where(df_lst_cnct_usr[\"ts_accepted_at_first\"].notnull(), 1, 0)"
   ]
  },
  {
   "cell_type": "code",
   "execution_count": 21,
   "id": "7432fd42",
   "metadata": {},
   "outputs": [
    {
     "data": {
      "text/html": [
       "<div>\n",
       "<style scoped>\n",
       "    .dataframe tbody tr th:only-of-type {\n",
       "        vertical-align: middle;\n",
       "    }\n",
       "\n",
       "    .dataframe tbody tr th {\n",
       "        vertical-align: top;\n",
       "    }\n",
       "\n",
       "    .dataframe thead th {\n",
       "        text-align: right;\n",
       "    }\n",
       "</style>\n",
       "<table border=\"1\" class=\"dataframe\">\n",
       "  <thead>\n",
       "    <tr style=\"text-align: right;\">\n",
       "      <th></th>\n",
       "      <th>id_guest_anon</th>\n",
       "      <th>id_host_anon</th>\n",
       "      <th>id_listing_anon</th>\n",
       "      <th>ts_interaction_first</th>\n",
       "      <th>ts_reply_at_first</th>\n",
       "      <th>ts_accepted_at_first</th>\n",
       "      <th>ts_booking_at</th>\n",
       "      <th>ds_checkin_first</th>\n",
       "      <th>ds_checkout_first</th>\n",
       "      <th>m_guests</th>\n",
       "      <th>...</th>\n",
       "      <th>contact_channel_first</th>\n",
       "      <th>guest_user_stage_first</th>\n",
       "      <th>room_type</th>\n",
       "      <th>listing_neighborhood</th>\n",
       "      <th>total_reviews</th>\n",
       "      <th>country</th>\n",
       "      <th>words_in_user_profile</th>\n",
       "      <th>booked</th>\n",
       "      <th>msg_replied</th>\n",
       "      <th>accepted_inquiry</th>\n",
       "    </tr>\n",
       "  </thead>\n",
       "  <tbody>\n",
       "    <tr>\n",
       "      <th>0</th>\n",
       "      <td>da8656a1-51af-4f38-b1c4-94be1f585157</td>\n",
       "      <td>5426897d-960d-4013-9e38-606ae746793c</td>\n",
       "      <td>a408a8b2-0d44-4513-a611-3736d0409bb2</td>\n",
       "      <td>2016-04-21 02:55:53</td>\n",
       "      <td>2016-04-21 03:15:00</td>\n",
       "      <td>2016-04-21 03:15:00</td>\n",
       "      <td>2016-04-21 03:15:00</td>\n",
       "      <td>2016-08-02</td>\n",
       "      <td>2016-08-06</td>\n",
       "      <td>4.0</td>\n",
       "      <td>...</td>\n",
       "      <td>book_it</td>\n",
       "      <td>past_booker</td>\n",
       "      <td>Entire home/apt</td>\n",
       "      <td>Copacabana</td>\n",
       "      <td>9.0</td>\n",
       "      <td>CL</td>\n",
       "      <td>0</td>\n",
       "      <td>1</td>\n",
       "      <td>1</td>\n",
       "      <td>1</td>\n",
       "    </tr>\n",
       "    <tr>\n",
       "      <th>1</th>\n",
       "      <td>8590d6f1-8bc9-4e8b-bdfb-de78f69fcf37</td>\n",
       "      <td>f30417c5-6df4-45ac-bfc2-6ad1cce398ab</td>\n",
       "      <td>e387c705-0aeb-464c-9375-ece63be6f006</td>\n",
       "      <td>2016-02-16 22:14:01</td>\n",
       "      <td>2016-02-16 23:37:36</td>\n",
       "      <td>NaT</td>\n",
       "      <td>NaT</td>\n",
       "      <td>2016-08-11</td>\n",
       "      <td>2016-08-22</td>\n",
       "      <td>5.0</td>\n",
       "      <td>...</td>\n",
       "      <td>contact_me</td>\n",
       "      <td>past_booker</td>\n",
       "      <td>Entire home/apt</td>\n",
       "      <td>Copacabana</td>\n",
       "      <td>0.0</td>\n",
       "      <td>FR</td>\n",
       "      <td>0</td>\n",
       "      <td>0</td>\n",
       "      <td>1</td>\n",
       "      <td>0</td>\n",
       "    </tr>\n",
       "    <tr>\n",
       "      <th>2</th>\n",
       "      <td>ebcd83ba-bda1-47eb-9680-2dd04ccf3988</td>\n",
       "      <td>13cbf50a-3272-45d4-9866-a06b6ea1b99a</td>\n",
       "      <td>d1eb1960-938f-4305-a353-51e224414dd4</td>\n",
       "      <td>2016-01-27 23:33:38</td>\n",
       "      <td>2016-01-28 02:12:47</td>\n",
       "      <td>NaT</td>\n",
       "      <td>NaT</td>\n",
       "      <td>2016-03-14</td>\n",
       "      <td>2016-03-23</td>\n",
       "      <td>1.0</td>\n",
       "      <td>...</td>\n",
       "      <td>contact_me</td>\n",
       "      <td>new</td>\n",
       "      <td>Private room</td>\n",
       "      <td>Vidigal</td>\n",
       "      <td>49.0</td>\n",
       "      <td>AR</td>\n",
       "      <td>0</td>\n",
       "      <td>0</td>\n",
       "      <td>1</td>\n",
       "      <td>0</td>\n",
       "    </tr>\n",
       "    <tr>\n",
       "      <th>3</th>\n",
       "      <td>b0af8848-fe2a-4ef1-991e-26ab3066feb3</td>\n",
       "      <td>01614601-d5a4-4776-ab9b-c10d3b865bf0</td>\n",
       "      <td>855f6779-346c-45fc-a64b-ea133250ca7a</td>\n",
       "      <td>2016-05-05 14:42:52</td>\n",
       "      <td>2016-05-05 15:17:40</td>\n",
       "      <td>2016-05-05 15:17:40</td>\n",
       "      <td>NaT</td>\n",
       "      <td>2016-05-27</td>\n",
       "      <td>2016-05-29</td>\n",
       "      <td>2.0</td>\n",
       "      <td>...</td>\n",
       "      <td>contact_me</td>\n",
       "      <td>new</td>\n",
       "      <td>Entire home/apt</td>\n",
       "      <td>Copacabana</td>\n",
       "      <td>17.0</td>\n",
       "      <td>BR</td>\n",
       "      <td>0</td>\n",
       "      <td>0</td>\n",
       "      <td>1</td>\n",
       "      <td>1</td>\n",
       "    </tr>\n",
       "    <tr>\n",
       "      <th>4</th>\n",
       "      <td>5ddbbcc3-ac1a-4d8a-b6f8-0f675b76d1b2</td>\n",
       "      <td>f2fed6f3-4c5c-453d-9e64-37c62b8bd06d</td>\n",
       "      <td>f2928a59-c5e7-42b2-9c37-240a40f38dc0</td>\n",
       "      <td>2016-06-23 03:09:25</td>\n",
       "      <td>2016-06-23 03:09:26</td>\n",
       "      <td>2016-06-23 03:09:33</td>\n",
       "      <td>2016-06-23 03:09:33</td>\n",
       "      <td>2016-08-19</td>\n",
       "      <td>2016-08-21</td>\n",
       "      <td>3.0</td>\n",
       "      <td>...</td>\n",
       "      <td>instant_book</td>\n",
       "      <td>past_booker</td>\n",
       "      <td>Entire home/apt</td>\n",
       "      <td>Ipanema</td>\n",
       "      <td>1.0</td>\n",
       "      <td>BR</td>\n",
       "      <td>1</td>\n",
       "      <td>1</td>\n",
       "      <td>1</td>\n",
       "      <td>1</td>\n",
       "    </tr>\n",
       "  </tbody>\n",
       "</table>\n",
       "<p>5 rows × 22 columns</p>\n",
       "</div>"
      ],
      "text/plain": [
       "                          id_guest_anon                          id_host_anon  \\\n",
       "0  da8656a1-51af-4f38-b1c4-94be1f585157  5426897d-960d-4013-9e38-606ae746793c   \n",
       "1  8590d6f1-8bc9-4e8b-bdfb-de78f69fcf37  f30417c5-6df4-45ac-bfc2-6ad1cce398ab   \n",
       "2  ebcd83ba-bda1-47eb-9680-2dd04ccf3988  13cbf50a-3272-45d4-9866-a06b6ea1b99a   \n",
       "3  b0af8848-fe2a-4ef1-991e-26ab3066feb3  01614601-d5a4-4776-ab9b-c10d3b865bf0   \n",
       "4  5ddbbcc3-ac1a-4d8a-b6f8-0f675b76d1b2  f2fed6f3-4c5c-453d-9e64-37c62b8bd06d   \n",
       "\n",
       "                        id_listing_anon ts_interaction_first  \\\n",
       "0  a408a8b2-0d44-4513-a611-3736d0409bb2  2016-04-21 02:55:53   \n",
       "1  e387c705-0aeb-464c-9375-ece63be6f006  2016-02-16 22:14:01   \n",
       "2  d1eb1960-938f-4305-a353-51e224414dd4  2016-01-27 23:33:38   \n",
       "3  855f6779-346c-45fc-a64b-ea133250ca7a  2016-05-05 14:42:52   \n",
       "4  f2928a59-c5e7-42b2-9c37-240a40f38dc0  2016-06-23 03:09:25   \n",
       "\n",
       "    ts_reply_at_first ts_accepted_at_first       ts_booking_at  \\\n",
       "0 2016-04-21 03:15:00  2016-04-21 03:15:00 2016-04-21 03:15:00   \n",
       "1 2016-02-16 23:37:36                  NaT                 NaT   \n",
       "2 2016-01-28 02:12:47                  NaT                 NaT   \n",
       "3 2016-05-05 15:17:40  2016-05-05 15:17:40                 NaT   \n",
       "4 2016-06-23 03:09:26  2016-06-23 03:09:33 2016-06-23 03:09:33   \n",
       "\n",
       "  ds_checkin_first ds_checkout_first  m_guests  ...  contact_channel_first  \\\n",
       "0       2016-08-02        2016-08-06       4.0  ...                book_it   \n",
       "1       2016-08-11        2016-08-22       5.0  ...             contact_me   \n",
       "2       2016-03-14        2016-03-23       1.0  ...             contact_me   \n",
       "3       2016-05-27        2016-05-29       2.0  ...             contact_me   \n",
       "4       2016-08-19        2016-08-21       3.0  ...           instant_book   \n",
       "\n",
       "   guest_user_stage_first        room_type listing_neighborhood total_reviews  \\\n",
       "0             past_booker  Entire home/apt           Copacabana           9.0   \n",
       "1             past_booker  Entire home/apt           Copacabana           0.0   \n",
       "2                     new     Private room              Vidigal          49.0   \n",
       "3                     new  Entire home/apt           Copacabana          17.0   \n",
       "4             past_booker  Entire home/apt              Ipanema           1.0   \n",
       "\n",
       "  country  words_in_user_profile booked  msg_replied  accepted_inquiry  \n",
       "0      CL                      0      1            1                 1  \n",
       "1      FR                      0      0            1                 0  \n",
       "2      AR                      0      0            1                 0  \n",
       "3      BR                      0      0            1                 1  \n",
       "4      BR                      1      1            1                 1  \n",
       "\n",
       "[5 rows x 22 columns]"
      ]
     },
     "execution_count": 21,
     "metadata": {},
     "output_type": "execute_result"
    }
   ],
   "source": [
    "df_lst_cnct_usr.head(5)"
   ]
  },
  {
   "cell_type": "markdown",
   "id": "2f59ff1d",
   "metadata": {},
   "source": [
    "# Hypothesis\n",
    "\n",
    "1. new_users who are booking via contact_me channel have less chance of being accepted \n",
    "2. auto_book has most booking acceptance for both new_user and past_booker\n",
    "3. does the number of guests have any affect on booking \n",
    "4. does a good bio in user profile have any affect on booking \n"
   ]
  },
  {
   "cell_type": "markdown",
   "id": "bdc14f17",
   "metadata": {},
   "source": [
    "<hr>\n",
    "\n",
    "## Finding out how many booked and how many couldnt book\n",
    "\n",
    "<hr>\n",
    "\n",
    "1. there are total of 27,887 booking requests. \n",
    "2. 16,300 of guests coulnt book \n",
    "3. 11,587 of guests were able to book\n"
   ]
  },
  {
   "cell_type": "code",
   "execution_count": 22,
   "id": "fe32a464",
   "metadata": {},
   "outputs": [
    {
     "data": {
      "text/plain": [
       "(27887, 22)"
      ]
     },
     "execution_count": 22,
     "metadata": {},
     "output_type": "execute_result"
    }
   ],
   "source": [
    "df_lst_cnct_usr.shape"
   ]
  },
  {
   "cell_type": "code",
   "execution_count": 38,
   "id": "4312a4cc",
   "metadata": {},
   "outputs": [
    {
     "data": {
      "application/vnd.plotly.v1+json": {
       "config": {
        "plotlyServerURL": "https://plot.ly"
       },
       "data": [
        {
         "alignmentgroup": "True",
         "hovertemplate": "booked=%{x}<br>id_guest_anon=%{y}<extra></extra>",
         "legendgroup": "",
         "marker": {
          "color": "#636efa",
          "pattern": {
           "shape": ""
          }
         },
         "name": "",
         "offsetgroup": "",
         "orientation": "v",
         "showlegend": false,
         "textposition": "auto",
         "type": "bar",
         "x": [
          0,
          1
         ],
         "xaxis": "x",
         "y": [
          16300,
          11587
         ],
         "yaxis": "y"
        }
       ],
       "layout": {
        "barmode": "relative",
        "legend": {
         "tracegroupgap": 0
        },
        "margin": {
         "t": 60
        },
        "template": {
         "data": {
          "bar": [
           {
            "error_x": {
             "color": "#2a3f5f"
            },
            "error_y": {
             "color": "#2a3f5f"
            },
            "marker": {
             "line": {
              "color": "#E5ECF6",
              "width": 0.5
             },
             "pattern": {
              "fillmode": "overlay",
              "size": 10,
              "solidity": 0.2
             }
            },
            "type": "bar"
           }
          ],
          "barpolar": [
           {
            "marker": {
             "line": {
              "color": "#E5ECF6",
              "width": 0.5
             },
             "pattern": {
              "fillmode": "overlay",
              "size": 10,
              "solidity": 0.2
             }
            },
            "type": "barpolar"
           }
          ],
          "carpet": [
           {
            "aaxis": {
             "endlinecolor": "#2a3f5f",
             "gridcolor": "white",
             "linecolor": "white",
             "minorgridcolor": "white",
             "startlinecolor": "#2a3f5f"
            },
            "baxis": {
             "endlinecolor": "#2a3f5f",
             "gridcolor": "white",
             "linecolor": "white",
             "minorgridcolor": "white",
             "startlinecolor": "#2a3f5f"
            },
            "type": "carpet"
           }
          ],
          "choropleth": [
           {
            "colorbar": {
             "outlinewidth": 0,
             "ticks": ""
            },
            "type": "choropleth"
           }
          ],
          "contour": [
           {
            "colorbar": {
             "outlinewidth": 0,
             "ticks": ""
            },
            "colorscale": [
             [
              0,
              "#0d0887"
             ],
             [
              0.1111111111111111,
              "#46039f"
             ],
             [
              0.2222222222222222,
              "#7201a8"
             ],
             [
              0.3333333333333333,
              "#9c179e"
             ],
             [
              0.4444444444444444,
              "#bd3786"
             ],
             [
              0.5555555555555556,
              "#d8576b"
             ],
             [
              0.6666666666666666,
              "#ed7953"
             ],
             [
              0.7777777777777778,
              "#fb9f3a"
             ],
             [
              0.8888888888888888,
              "#fdca26"
             ],
             [
              1,
              "#f0f921"
             ]
            ],
            "type": "contour"
           }
          ],
          "contourcarpet": [
           {
            "colorbar": {
             "outlinewidth": 0,
             "ticks": ""
            },
            "type": "contourcarpet"
           }
          ],
          "heatmap": [
           {
            "colorbar": {
             "outlinewidth": 0,
             "ticks": ""
            },
            "colorscale": [
             [
              0,
              "#0d0887"
             ],
             [
              0.1111111111111111,
              "#46039f"
             ],
             [
              0.2222222222222222,
              "#7201a8"
             ],
             [
              0.3333333333333333,
              "#9c179e"
             ],
             [
              0.4444444444444444,
              "#bd3786"
             ],
             [
              0.5555555555555556,
              "#d8576b"
             ],
             [
              0.6666666666666666,
              "#ed7953"
             ],
             [
              0.7777777777777778,
              "#fb9f3a"
             ],
             [
              0.8888888888888888,
              "#fdca26"
             ],
             [
              1,
              "#f0f921"
             ]
            ],
            "type": "heatmap"
           }
          ],
          "heatmapgl": [
           {
            "colorbar": {
             "outlinewidth": 0,
             "ticks": ""
            },
            "colorscale": [
             [
              0,
              "#0d0887"
             ],
             [
              0.1111111111111111,
              "#46039f"
             ],
             [
              0.2222222222222222,
              "#7201a8"
             ],
             [
              0.3333333333333333,
              "#9c179e"
             ],
             [
              0.4444444444444444,
              "#bd3786"
             ],
             [
              0.5555555555555556,
              "#d8576b"
             ],
             [
              0.6666666666666666,
              "#ed7953"
             ],
             [
              0.7777777777777778,
              "#fb9f3a"
             ],
             [
              0.8888888888888888,
              "#fdca26"
             ],
             [
              1,
              "#f0f921"
             ]
            ],
            "type": "heatmapgl"
           }
          ],
          "histogram": [
           {
            "marker": {
             "pattern": {
              "fillmode": "overlay",
              "size": 10,
              "solidity": 0.2
             }
            },
            "type": "histogram"
           }
          ],
          "histogram2d": [
           {
            "colorbar": {
             "outlinewidth": 0,
             "ticks": ""
            },
            "colorscale": [
             [
              0,
              "#0d0887"
             ],
             [
              0.1111111111111111,
              "#46039f"
             ],
             [
              0.2222222222222222,
              "#7201a8"
             ],
             [
              0.3333333333333333,
              "#9c179e"
             ],
             [
              0.4444444444444444,
              "#bd3786"
             ],
             [
              0.5555555555555556,
              "#d8576b"
             ],
             [
              0.6666666666666666,
              "#ed7953"
             ],
             [
              0.7777777777777778,
              "#fb9f3a"
             ],
             [
              0.8888888888888888,
              "#fdca26"
             ],
             [
              1,
              "#f0f921"
             ]
            ],
            "type": "histogram2d"
           }
          ],
          "histogram2dcontour": [
           {
            "colorbar": {
             "outlinewidth": 0,
             "ticks": ""
            },
            "colorscale": [
             [
              0,
              "#0d0887"
             ],
             [
              0.1111111111111111,
              "#46039f"
             ],
             [
              0.2222222222222222,
              "#7201a8"
             ],
             [
              0.3333333333333333,
              "#9c179e"
             ],
             [
              0.4444444444444444,
              "#bd3786"
             ],
             [
              0.5555555555555556,
              "#d8576b"
             ],
             [
              0.6666666666666666,
              "#ed7953"
             ],
             [
              0.7777777777777778,
              "#fb9f3a"
             ],
             [
              0.8888888888888888,
              "#fdca26"
             ],
             [
              1,
              "#f0f921"
             ]
            ],
            "type": "histogram2dcontour"
           }
          ],
          "mesh3d": [
           {
            "colorbar": {
             "outlinewidth": 0,
             "ticks": ""
            },
            "type": "mesh3d"
           }
          ],
          "parcoords": [
           {
            "line": {
             "colorbar": {
              "outlinewidth": 0,
              "ticks": ""
             }
            },
            "type": "parcoords"
           }
          ],
          "pie": [
           {
            "automargin": true,
            "type": "pie"
           }
          ],
          "scatter": [
           {
            "fillpattern": {
             "fillmode": "overlay",
             "size": 10,
             "solidity": 0.2
            },
            "type": "scatter"
           }
          ],
          "scatter3d": [
           {
            "line": {
             "colorbar": {
              "outlinewidth": 0,
              "ticks": ""
             }
            },
            "marker": {
             "colorbar": {
              "outlinewidth": 0,
              "ticks": ""
             }
            },
            "type": "scatter3d"
           }
          ],
          "scattercarpet": [
           {
            "marker": {
             "colorbar": {
              "outlinewidth": 0,
              "ticks": ""
             }
            },
            "type": "scattercarpet"
           }
          ],
          "scattergeo": [
           {
            "marker": {
             "colorbar": {
              "outlinewidth": 0,
              "ticks": ""
             }
            },
            "type": "scattergeo"
           }
          ],
          "scattergl": [
           {
            "marker": {
             "colorbar": {
              "outlinewidth": 0,
              "ticks": ""
             }
            },
            "type": "scattergl"
           }
          ],
          "scattermapbox": [
           {
            "marker": {
             "colorbar": {
              "outlinewidth": 0,
              "ticks": ""
             }
            },
            "type": "scattermapbox"
           }
          ],
          "scatterpolar": [
           {
            "marker": {
             "colorbar": {
              "outlinewidth": 0,
              "ticks": ""
             }
            },
            "type": "scatterpolar"
           }
          ],
          "scatterpolargl": [
           {
            "marker": {
             "colorbar": {
              "outlinewidth": 0,
              "ticks": ""
             }
            },
            "type": "scatterpolargl"
           }
          ],
          "scatterternary": [
           {
            "marker": {
             "colorbar": {
              "outlinewidth": 0,
              "ticks": ""
             }
            },
            "type": "scatterternary"
           }
          ],
          "surface": [
           {
            "colorbar": {
             "outlinewidth": 0,
             "ticks": ""
            },
            "colorscale": [
             [
              0,
              "#0d0887"
             ],
             [
              0.1111111111111111,
              "#46039f"
             ],
             [
              0.2222222222222222,
              "#7201a8"
             ],
             [
              0.3333333333333333,
              "#9c179e"
             ],
             [
              0.4444444444444444,
              "#bd3786"
             ],
             [
              0.5555555555555556,
              "#d8576b"
             ],
             [
              0.6666666666666666,
              "#ed7953"
             ],
             [
              0.7777777777777778,
              "#fb9f3a"
             ],
             [
              0.8888888888888888,
              "#fdca26"
             ],
             [
              1,
              "#f0f921"
             ]
            ],
            "type": "surface"
           }
          ],
          "table": [
           {
            "cells": {
             "fill": {
              "color": "#EBF0F8"
             },
             "line": {
              "color": "white"
             }
            },
            "header": {
             "fill": {
              "color": "#C8D4E3"
             },
             "line": {
              "color": "white"
             }
            },
            "type": "table"
           }
          ]
         },
         "layout": {
          "annotationdefaults": {
           "arrowcolor": "#2a3f5f",
           "arrowhead": 0,
           "arrowwidth": 1
          },
          "autotypenumbers": "strict",
          "coloraxis": {
           "colorbar": {
            "outlinewidth": 0,
            "ticks": ""
           }
          },
          "colorscale": {
           "diverging": [
            [
             0,
             "#8e0152"
            ],
            [
             0.1,
             "#c51b7d"
            ],
            [
             0.2,
             "#de77ae"
            ],
            [
             0.3,
             "#f1b6da"
            ],
            [
             0.4,
             "#fde0ef"
            ],
            [
             0.5,
             "#f7f7f7"
            ],
            [
             0.6,
             "#e6f5d0"
            ],
            [
             0.7,
             "#b8e186"
            ],
            [
             0.8,
             "#7fbc41"
            ],
            [
             0.9,
             "#4d9221"
            ],
            [
             1,
             "#276419"
            ]
           ],
           "sequential": [
            [
             0,
             "#0d0887"
            ],
            [
             0.1111111111111111,
             "#46039f"
            ],
            [
             0.2222222222222222,
             "#7201a8"
            ],
            [
             0.3333333333333333,
             "#9c179e"
            ],
            [
             0.4444444444444444,
             "#bd3786"
            ],
            [
             0.5555555555555556,
             "#d8576b"
            ],
            [
             0.6666666666666666,
             "#ed7953"
            ],
            [
             0.7777777777777778,
             "#fb9f3a"
            ],
            [
             0.8888888888888888,
             "#fdca26"
            ],
            [
             1,
             "#f0f921"
            ]
           ],
           "sequentialminus": [
            [
             0,
             "#0d0887"
            ],
            [
             0.1111111111111111,
             "#46039f"
            ],
            [
             0.2222222222222222,
             "#7201a8"
            ],
            [
             0.3333333333333333,
             "#9c179e"
            ],
            [
             0.4444444444444444,
             "#bd3786"
            ],
            [
             0.5555555555555556,
             "#d8576b"
            ],
            [
             0.6666666666666666,
             "#ed7953"
            ],
            [
             0.7777777777777778,
             "#fb9f3a"
            ],
            [
             0.8888888888888888,
             "#fdca26"
            ],
            [
             1,
             "#f0f921"
            ]
           ]
          },
          "colorway": [
           "#636efa",
           "#EF553B",
           "#00cc96",
           "#ab63fa",
           "#FFA15A",
           "#19d3f3",
           "#FF6692",
           "#B6E880",
           "#FF97FF",
           "#FECB52"
          ],
          "font": {
           "color": "#2a3f5f"
          },
          "geo": {
           "bgcolor": "white",
           "lakecolor": "white",
           "landcolor": "#E5ECF6",
           "showlakes": true,
           "showland": true,
           "subunitcolor": "white"
          },
          "hoverlabel": {
           "align": "left"
          },
          "hovermode": "closest",
          "mapbox": {
           "style": "light"
          },
          "paper_bgcolor": "white",
          "plot_bgcolor": "#E5ECF6",
          "polar": {
           "angularaxis": {
            "gridcolor": "white",
            "linecolor": "white",
            "ticks": ""
           },
           "bgcolor": "#E5ECF6",
           "radialaxis": {
            "gridcolor": "white",
            "linecolor": "white",
            "ticks": ""
           }
          },
          "scene": {
           "xaxis": {
            "backgroundcolor": "#E5ECF6",
            "gridcolor": "white",
            "gridwidth": 2,
            "linecolor": "white",
            "showbackground": true,
            "ticks": "",
            "zerolinecolor": "white"
           },
           "yaxis": {
            "backgroundcolor": "#E5ECF6",
            "gridcolor": "white",
            "gridwidth": 2,
            "linecolor": "white",
            "showbackground": true,
            "ticks": "",
            "zerolinecolor": "white"
           },
           "zaxis": {
            "backgroundcolor": "#E5ECF6",
            "gridcolor": "white",
            "gridwidth": 2,
            "linecolor": "white",
            "showbackground": true,
            "ticks": "",
            "zerolinecolor": "white"
           }
          },
          "shapedefaults": {
           "line": {
            "color": "#2a3f5f"
           }
          },
          "ternary": {
           "aaxis": {
            "gridcolor": "white",
            "linecolor": "white",
            "ticks": ""
           },
           "baxis": {
            "gridcolor": "white",
            "linecolor": "white",
            "ticks": ""
           },
           "bgcolor": "#E5ECF6",
           "caxis": {
            "gridcolor": "white",
            "linecolor": "white",
            "ticks": ""
           }
          },
          "title": {
           "x": 0.05
          },
          "xaxis": {
           "automargin": true,
           "gridcolor": "white",
           "linecolor": "white",
           "ticks": "",
           "title": {
            "standoff": 15
           },
           "zerolinecolor": "white",
           "zerolinewidth": 2
          },
          "yaxis": {
           "automargin": true,
           "gridcolor": "white",
           "linecolor": "white",
           "ticks": "",
           "title": {
            "standoff": 15
           },
           "zerolinecolor": "white",
           "zerolinewidth": 2
          }
         }
        },
        "xaxis": {
         "anchor": "y",
         "domain": [
          0,
          1
         ],
         "title": {
          "text": "booked"
         }
        },
        "yaxis": {
         "anchor": "x",
         "domain": [
          0,
          1
         ],
         "title": {
          "text": "id_guest_anon"
         }
        }
       }
      },
      "text/html": [
       "<div>                            <div id=\"5929e82a-8766-423b-b2b1-de01144e6f5b\" class=\"plotly-graph-div\" style=\"height:525px; width:100%;\"></div>            <script type=\"text/javascript\">                require([\"plotly\"], function(Plotly) {                    window.PLOTLYENV=window.PLOTLYENV || {};                                    if (document.getElementById(\"5929e82a-8766-423b-b2b1-de01144e6f5b\")) {                    Plotly.newPlot(                        \"5929e82a-8766-423b-b2b1-de01144e6f5b\",                        [{\"alignmentgroup\":\"True\",\"hovertemplate\":\"booked=%{x}<br>id_guest_anon=%{y}<extra></extra>\",\"legendgroup\":\"\",\"marker\":{\"color\":\"#636efa\",\"pattern\":{\"shape\":\"\"}},\"name\":\"\",\"offsetgroup\":\"\",\"orientation\":\"v\",\"showlegend\":false,\"textposition\":\"auto\",\"x\":[0,1],\"xaxis\":\"x\",\"y\":[16300,11587],\"yaxis\":\"y\",\"type\":\"bar\"}],                        {\"template\":{\"data\":{\"histogram2dcontour\":[{\"type\":\"histogram2dcontour\",\"colorbar\":{\"outlinewidth\":0,\"ticks\":\"\"},\"colorscale\":[[0.0,\"#0d0887\"],[0.1111111111111111,\"#46039f\"],[0.2222222222222222,\"#7201a8\"],[0.3333333333333333,\"#9c179e\"],[0.4444444444444444,\"#bd3786\"],[0.5555555555555556,\"#d8576b\"],[0.6666666666666666,\"#ed7953\"],[0.7777777777777778,\"#fb9f3a\"],[0.8888888888888888,\"#fdca26\"],[1.0,\"#f0f921\"]]}],\"choropleth\":[{\"type\":\"choropleth\",\"colorbar\":{\"outlinewidth\":0,\"ticks\":\"\"}}],\"histogram2d\":[{\"type\":\"histogram2d\",\"colorbar\":{\"outlinewidth\":0,\"ticks\":\"\"},\"colorscale\":[[0.0,\"#0d0887\"],[0.1111111111111111,\"#46039f\"],[0.2222222222222222,\"#7201a8\"],[0.3333333333333333,\"#9c179e\"],[0.4444444444444444,\"#bd3786\"],[0.5555555555555556,\"#d8576b\"],[0.6666666666666666,\"#ed7953\"],[0.7777777777777778,\"#fb9f3a\"],[0.8888888888888888,\"#fdca26\"],[1.0,\"#f0f921\"]]}],\"heatmap\":[{\"type\":\"heatmap\",\"colorbar\":{\"outlinewidth\":0,\"ticks\":\"\"},\"colorscale\":[[0.0,\"#0d0887\"],[0.1111111111111111,\"#46039f\"],[0.2222222222222222,\"#7201a8\"],[0.3333333333333333,\"#9c179e\"],[0.4444444444444444,\"#bd3786\"],[0.5555555555555556,\"#d8576b\"],[0.6666666666666666,\"#ed7953\"],[0.7777777777777778,\"#fb9f3a\"],[0.8888888888888888,\"#fdca26\"],[1.0,\"#f0f921\"]]}],\"heatmapgl\":[{\"type\":\"heatmapgl\",\"colorbar\":{\"outlinewidth\":0,\"ticks\":\"\"},\"colorscale\":[[0.0,\"#0d0887\"],[0.1111111111111111,\"#46039f\"],[0.2222222222222222,\"#7201a8\"],[0.3333333333333333,\"#9c179e\"],[0.4444444444444444,\"#bd3786\"],[0.5555555555555556,\"#d8576b\"],[0.6666666666666666,\"#ed7953\"],[0.7777777777777778,\"#fb9f3a\"],[0.8888888888888888,\"#fdca26\"],[1.0,\"#f0f921\"]]}],\"contourcarpet\":[{\"type\":\"contourcarpet\",\"colorbar\":{\"outlinewidth\":0,\"ticks\":\"\"}}],\"contour\":[{\"type\":\"contour\",\"colorbar\":{\"outlinewidth\":0,\"ticks\":\"\"},\"colorscale\":[[0.0,\"#0d0887\"],[0.1111111111111111,\"#46039f\"],[0.2222222222222222,\"#7201a8\"],[0.3333333333333333,\"#9c179e\"],[0.4444444444444444,\"#bd3786\"],[0.5555555555555556,\"#d8576b\"],[0.6666666666666666,\"#ed7953\"],[0.7777777777777778,\"#fb9f3a\"],[0.8888888888888888,\"#fdca26\"],[1.0,\"#f0f921\"]]}],\"surface\":[{\"type\":\"surface\",\"colorbar\":{\"outlinewidth\":0,\"ticks\":\"\"},\"colorscale\":[[0.0,\"#0d0887\"],[0.1111111111111111,\"#46039f\"],[0.2222222222222222,\"#7201a8\"],[0.3333333333333333,\"#9c179e\"],[0.4444444444444444,\"#bd3786\"],[0.5555555555555556,\"#d8576b\"],[0.6666666666666666,\"#ed7953\"],[0.7777777777777778,\"#fb9f3a\"],[0.8888888888888888,\"#fdca26\"],[1.0,\"#f0f921\"]]}],\"mesh3d\":[{\"type\":\"mesh3d\",\"colorbar\":{\"outlinewidth\":0,\"ticks\":\"\"}}],\"scatter\":[{\"fillpattern\":{\"fillmode\":\"overlay\",\"size\":10,\"solidity\":0.2},\"type\":\"scatter\"}],\"parcoords\":[{\"type\":\"parcoords\",\"line\":{\"colorbar\":{\"outlinewidth\":0,\"ticks\":\"\"}}}],\"scatterpolargl\":[{\"type\":\"scatterpolargl\",\"marker\":{\"colorbar\":{\"outlinewidth\":0,\"ticks\":\"\"}}}],\"bar\":[{\"error_x\":{\"color\":\"#2a3f5f\"},\"error_y\":{\"color\":\"#2a3f5f\"},\"marker\":{\"line\":{\"color\":\"#E5ECF6\",\"width\":0.5},\"pattern\":{\"fillmode\":\"overlay\",\"size\":10,\"solidity\":0.2}},\"type\":\"bar\"}],\"scattergeo\":[{\"type\":\"scattergeo\",\"marker\":{\"colorbar\":{\"outlinewidth\":0,\"ticks\":\"\"}}}],\"scatterpolar\":[{\"type\":\"scatterpolar\",\"marker\":{\"colorbar\":{\"outlinewidth\":0,\"ticks\":\"\"}}}],\"histogram\":[{\"marker\":{\"pattern\":{\"fillmode\":\"overlay\",\"size\":10,\"solidity\":0.2}},\"type\":\"histogram\"}],\"scattergl\":[{\"type\":\"scattergl\",\"marker\":{\"colorbar\":{\"outlinewidth\":0,\"ticks\":\"\"}}}],\"scatter3d\":[{\"type\":\"scatter3d\",\"line\":{\"colorbar\":{\"outlinewidth\":0,\"ticks\":\"\"}},\"marker\":{\"colorbar\":{\"outlinewidth\":0,\"ticks\":\"\"}}}],\"scattermapbox\":[{\"type\":\"scattermapbox\",\"marker\":{\"colorbar\":{\"outlinewidth\":0,\"ticks\":\"\"}}}],\"scatterternary\":[{\"type\":\"scatterternary\",\"marker\":{\"colorbar\":{\"outlinewidth\":0,\"ticks\":\"\"}}}],\"scattercarpet\":[{\"type\":\"scattercarpet\",\"marker\":{\"colorbar\":{\"outlinewidth\":0,\"ticks\":\"\"}}}],\"carpet\":[{\"aaxis\":{\"endlinecolor\":\"#2a3f5f\",\"gridcolor\":\"white\",\"linecolor\":\"white\",\"minorgridcolor\":\"white\",\"startlinecolor\":\"#2a3f5f\"},\"baxis\":{\"endlinecolor\":\"#2a3f5f\",\"gridcolor\":\"white\",\"linecolor\":\"white\",\"minorgridcolor\":\"white\",\"startlinecolor\":\"#2a3f5f\"},\"type\":\"carpet\"}],\"table\":[{\"cells\":{\"fill\":{\"color\":\"#EBF0F8\"},\"line\":{\"color\":\"white\"}},\"header\":{\"fill\":{\"color\":\"#C8D4E3\"},\"line\":{\"color\":\"white\"}},\"type\":\"table\"}],\"barpolar\":[{\"marker\":{\"line\":{\"color\":\"#E5ECF6\",\"width\":0.5},\"pattern\":{\"fillmode\":\"overlay\",\"size\":10,\"solidity\":0.2}},\"type\":\"barpolar\"}],\"pie\":[{\"automargin\":true,\"type\":\"pie\"}]},\"layout\":{\"autotypenumbers\":\"strict\",\"colorway\":[\"#636efa\",\"#EF553B\",\"#00cc96\",\"#ab63fa\",\"#FFA15A\",\"#19d3f3\",\"#FF6692\",\"#B6E880\",\"#FF97FF\",\"#FECB52\"],\"font\":{\"color\":\"#2a3f5f\"},\"hovermode\":\"closest\",\"hoverlabel\":{\"align\":\"left\"},\"paper_bgcolor\":\"white\",\"plot_bgcolor\":\"#E5ECF6\",\"polar\":{\"bgcolor\":\"#E5ECF6\",\"angularaxis\":{\"gridcolor\":\"white\",\"linecolor\":\"white\",\"ticks\":\"\"},\"radialaxis\":{\"gridcolor\":\"white\",\"linecolor\":\"white\",\"ticks\":\"\"}},\"ternary\":{\"bgcolor\":\"#E5ECF6\",\"aaxis\":{\"gridcolor\":\"white\",\"linecolor\":\"white\",\"ticks\":\"\"},\"baxis\":{\"gridcolor\":\"white\",\"linecolor\":\"white\",\"ticks\":\"\"},\"caxis\":{\"gridcolor\":\"white\",\"linecolor\":\"white\",\"ticks\":\"\"}},\"coloraxis\":{\"colorbar\":{\"outlinewidth\":0,\"ticks\":\"\"}},\"colorscale\":{\"sequential\":[[0.0,\"#0d0887\"],[0.1111111111111111,\"#46039f\"],[0.2222222222222222,\"#7201a8\"],[0.3333333333333333,\"#9c179e\"],[0.4444444444444444,\"#bd3786\"],[0.5555555555555556,\"#d8576b\"],[0.6666666666666666,\"#ed7953\"],[0.7777777777777778,\"#fb9f3a\"],[0.8888888888888888,\"#fdca26\"],[1.0,\"#f0f921\"]],\"sequentialminus\":[[0.0,\"#0d0887\"],[0.1111111111111111,\"#46039f\"],[0.2222222222222222,\"#7201a8\"],[0.3333333333333333,\"#9c179e\"],[0.4444444444444444,\"#bd3786\"],[0.5555555555555556,\"#d8576b\"],[0.6666666666666666,\"#ed7953\"],[0.7777777777777778,\"#fb9f3a\"],[0.8888888888888888,\"#fdca26\"],[1.0,\"#f0f921\"]],\"diverging\":[[0,\"#8e0152\"],[0.1,\"#c51b7d\"],[0.2,\"#de77ae\"],[0.3,\"#f1b6da\"],[0.4,\"#fde0ef\"],[0.5,\"#f7f7f7\"],[0.6,\"#e6f5d0\"],[0.7,\"#b8e186\"],[0.8,\"#7fbc41\"],[0.9,\"#4d9221\"],[1,\"#276419\"]]},\"xaxis\":{\"gridcolor\":\"white\",\"linecolor\":\"white\",\"ticks\":\"\",\"title\":{\"standoff\":15},\"zerolinecolor\":\"white\",\"automargin\":true,\"zerolinewidth\":2},\"yaxis\":{\"gridcolor\":\"white\",\"linecolor\":\"white\",\"ticks\":\"\",\"title\":{\"standoff\":15},\"zerolinecolor\":\"white\",\"automargin\":true,\"zerolinewidth\":2},\"scene\":{\"xaxis\":{\"backgroundcolor\":\"#E5ECF6\",\"gridcolor\":\"white\",\"linecolor\":\"white\",\"showbackground\":true,\"ticks\":\"\",\"zerolinecolor\":\"white\",\"gridwidth\":2},\"yaxis\":{\"backgroundcolor\":\"#E5ECF6\",\"gridcolor\":\"white\",\"linecolor\":\"white\",\"showbackground\":true,\"ticks\":\"\",\"zerolinecolor\":\"white\",\"gridwidth\":2},\"zaxis\":{\"backgroundcolor\":\"#E5ECF6\",\"gridcolor\":\"white\",\"linecolor\":\"white\",\"showbackground\":true,\"ticks\":\"\",\"zerolinecolor\":\"white\",\"gridwidth\":2}},\"shapedefaults\":{\"line\":{\"color\":\"#2a3f5f\"}},\"annotationdefaults\":{\"arrowcolor\":\"#2a3f5f\",\"arrowhead\":0,\"arrowwidth\":1},\"geo\":{\"bgcolor\":\"white\",\"landcolor\":\"#E5ECF6\",\"subunitcolor\":\"white\",\"showland\":true,\"showlakes\":true,\"lakecolor\":\"white\"},\"title\":{\"x\":0.05},\"mapbox\":{\"style\":\"light\"}}},\"xaxis\":{\"anchor\":\"y\",\"domain\":[0.0,1.0],\"title\":{\"text\":\"booked\"}},\"yaxis\":{\"anchor\":\"x\",\"domain\":[0.0,1.0],\"title\":{\"text\":\"id_guest_anon\"}},\"legend\":{\"tracegroupgap\":0},\"margin\":{\"t\":60},\"barmode\":\"relative\"},                        {\"responsive\": true}                    ).then(function(){\n",
       "                            \n",
       "var gd = document.getElementById('5929e82a-8766-423b-b2b1-de01144e6f5b');\n",
       "var x = new MutationObserver(function (mutations, observer) {{\n",
       "        var display = window.getComputedStyle(gd).display;\n",
       "        if (!display || display === 'none') {{\n",
       "            console.log([gd, 'removed!']);\n",
       "            Plotly.purge(gd);\n",
       "            observer.disconnect();\n",
       "        }}\n",
       "}});\n",
       "\n",
       "// Listen for the removal of the full notebook cells\n",
       "var notebookContainer = gd.closest('#notebook-container');\n",
       "if (notebookContainer) {{\n",
       "    x.observe(notebookContainer, {childList: true});\n",
       "}}\n",
       "\n",
       "// Listen for the clearing of the current output cell\n",
       "var outputEl = gd.closest('.output');\n",
       "if (outputEl) {{\n",
       "    x.observe(outputEl, {childList: true});\n",
       "}}\n",
       "\n",
       "                        })                };                });            </script>        </div>"
      ]
     },
     "metadata": {},
     "output_type": "display_data"
    }
   ],
   "source": [
    "\n",
    "px.bar(df_lst_cnct_usr.groupby(\"booked\").count().reset_index(), y=\"id_guest_anon\", x=\"booked\")\n",
    "\n"
   ]
  },
  {
   "cell_type": "markdown",
   "id": "49de4511",
   "metadata": {},
   "source": []
  },
  {
   "cell_type": "markdown",
   "id": "6012befa",
   "metadata": {},
   "source": [
    "## 1. new_users who are booking via contact_me channel have less chance of being accepted"
   ]
  },
  {
   "cell_type": "code",
   "execution_count": null,
   "id": "9b053665",
   "metadata": {},
   "outputs": [],
   "source": []
  },
  {
   "cell_type": "code",
   "execution_count": 24,
   "id": "6e88cff9",
   "metadata": {},
   "outputs": [
    {
     "data": {
      "text/html": [
       "<div>\n",
       "<style scoped>\n",
       "    .dataframe tbody tr th:only-of-type {\n",
       "        vertical-align: middle;\n",
       "    }\n",
       "\n",
       "    .dataframe tbody tr th {\n",
       "        vertical-align: top;\n",
       "    }\n",
       "\n",
       "    .dataframe thead th {\n",
       "        text-align: right;\n",
       "    }\n",
       "</style>\n",
       "<table border=\"1\" class=\"dataframe\">\n",
       "  <thead>\n",
       "    <tr style=\"text-align: right;\">\n",
       "      <th></th>\n",
       "      <th></th>\n",
       "      <th></th>\n",
       "      <th>id_guest_anon</th>\n",
       "    </tr>\n",
       "    <tr>\n",
       "      <th>booked</th>\n",
       "      <th>guest_user_stage_first</th>\n",
       "      <th>contact_channel_first</th>\n",
       "      <th></th>\n",
       "    </tr>\n",
       "  </thead>\n",
       "  <tbody>\n",
       "    <tr>\n",
       "      <th rowspan=\"6\" valign=\"top\">0</th>\n",
       "      <th rowspan=\"2\" valign=\"top\">-unknown-</th>\n",
       "      <th>book_it</th>\n",
       "      <td>11</td>\n",
       "    </tr>\n",
       "    <tr>\n",
       "      <th>contact_me</th>\n",
       "      <td>10</td>\n",
       "    </tr>\n",
       "    <tr>\n",
       "      <th rowspan=\"2\" valign=\"top\">new</th>\n",
       "      <th>book_it</th>\n",
       "      <td>2353</td>\n",
       "    </tr>\n",
       "    <tr>\n",
       "      <th>contact_me</th>\n",
       "      <td>8267</td>\n",
       "    </tr>\n",
       "    <tr>\n",
       "      <th rowspan=\"2\" valign=\"top\">past_booker</th>\n",
       "      <th>book_it</th>\n",
       "      <td>2019</td>\n",
       "    </tr>\n",
       "    <tr>\n",
       "      <th>contact_me</th>\n",
       "      <td>3640</td>\n",
       "    </tr>\n",
       "    <tr>\n",
       "      <th rowspan=\"9\" valign=\"top\">1</th>\n",
       "      <th rowspan=\"3\" valign=\"top\">-unknown-</th>\n",
       "      <th>book_it</th>\n",
       "      <td>3</td>\n",
       "    </tr>\n",
       "    <tr>\n",
       "      <th>contact_me</th>\n",
       "      <td>1</td>\n",
       "    </tr>\n",
       "    <tr>\n",
       "      <th>instant_book</th>\n",
       "      <td>10</td>\n",
       "    </tr>\n",
       "    <tr>\n",
       "      <th rowspan=\"3\" valign=\"top\">new</th>\n",
       "      <th>book_it</th>\n",
       "      <td>1946</td>\n",
       "    </tr>\n",
       "    <tr>\n",
       "      <th>contact_me</th>\n",
       "      <td>537</td>\n",
       "    </tr>\n",
       "    <tr>\n",
       "      <th>instant_book</th>\n",
       "      <td>2802</td>\n",
       "    </tr>\n",
       "    <tr>\n",
       "      <th rowspan=\"3\" valign=\"top\">past_booker</th>\n",
       "      <th>book_it</th>\n",
       "      <td>2034</td>\n",
       "    </tr>\n",
       "    <tr>\n",
       "      <th>contact_me</th>\n",
       "      <td>373</td>\n",
       "    </tr>\n",
       "    <tr>\n",
       "      <th>instant_book</th>\n",
       "      <td>3881</td>\n",
       "    </tr>\n",
       "  </tbody>\n",
       "</table>\n",
       "</div>"
      ],
      "text/plain": [
       "                                                     id_guest_anon\n",
       "booked guest_user_stage_first contact_channel_first               \n",
       "0      -unknown-              book_it                           11\n",
       "                              contact_me                        10\n",
       "       new                    book_it                         2353\n",
       "                              contact_me                      8267\n",
       "       past_booker            book_it                         2019\n",
       "                              contact_me                      3640\n",
       "1      -unknown-              book_it                            3\n",
       "                              contact_me                         1\n",
       "                              instant_book                      10\n",
       "       new                    book_it                         1946\n",
       "                              contact_me                       537\n",
       "                              instant_book                    2802\n",
       "       past_booker            book_it                         2034\n",
       "                              contact_me                       373\n",
       "                              instant_book                    3881"
      ]
     },
     "execution_count": 24,
     "metadata": {},
     "output_type": "execute_result"
    }
   ],
   "source": [
    "df_lst_cnct_usr.groupby(\n",
    "    [\"booked\",\"guest_user_stage_first\", \"contact_channel_first\"]\n",
    "    \n",
    "    )[[\"id_guest_anon\"]].count()\n"
   ]
  },
  {
   "cell_type": "code",
   "execution_count": 34,
   "id": "f4da88c1",
   "metadata": {},
   "outputs": [
    {
     "data": {
      "text/plain": [
       "<Axes: xlabel='contact_channel_first', ylabel='id_guest_anon'>"
      ]
     },
     "execution_count": 34,
     "metadata": {},
     "output_type": "execute_result"
    },
    {
     "data": {
      "image/png": "[encoded data removed]",
      "text/plain": [
       "<Figure size 640x480 with 1 Axes>"
      ]
     },
     "metadata": {},
     "output_type": "display_data"
    }
   ],
   "source": [
    "a_ = df_lst_cnct_usr.groupby([\"booked\",\"guest_user_stage_first\", \"contact_channel_first\"]).count().reset_index()\n",
    "\n",
    "sns.barplot(a_, y=\"id_guest_anon\", x=\"contact_channel_first\", hue=\"guest_user_stage_first\")\n"
   ]
  },
  {
   "cell_type": "markdown",
   "id": "0e3e25be",
   "metadata": {},
   "source": [
    "<hr></hr>\n",
    "\n",
    "## Why majority of new users are not able to book when they are using contact_me channel \n",
    "\n",
    "<hr></hr>"
   ]
  },
  {
   "cell_type": "code",
   "execution_count": null,
   "id": "cbd2c067",
   "metadata": {},
   "outputs": [],
   "source": [
    "df_lst_cnct_usr.\n"
   ]
  },
  {
   "cell_type": "code",
   "execution_count": null,
   "id": "815ae9fd",
   "metadata": {},
   "outputs": [],
   "source": [
    "# 5068 guests out of ~8000 inquiry didnt get accepted \n",
    "\n",
    "msg_not_accepted = new_users_cntc_me.loc[new_users_cntc_me[\"accepted_inquiry\"] == 0]\n",
    "\n",
    "msg_not_accepted.shape"
   ]
  },
  {
   "cell_type": "markdown",
   "id": "69b4cb55",
   "metadata": {},
   "source": [
    "<hr></hr>\n",
    "\n",
    "### what could be the cause of user's inquiry didn't get accepted \n",
    "\n",
    "1. *is it related to number of words in their profile?*\n",
    "2. *is it related to what kind of inquiry the guest had (no data available for that)*\n",
    "\n",
    "\n",
    "<hr></hr>"
   ]
  },
  {
   "cell_type": "code",
   "execution_count": null,
   "id": "434a64e1",
   "metadata": {},
   "outputs": [],
   "source": [
    "msg_not_accepted[msg_not_accepted[\"words_in_user_profile\"] == 0].shape"
   ]
  },
  {
   "cell_type": "code",
   "execution_count": null,
   "id": "78e8575d",
   "metadata": {},
   "outputs": [],
   "source": []
  },
  {
   "cell_type": "code",
   "execution_count": null,
   "id": "189b9109",
   "metadata": {},
   "outputs": [],
   "source": []
  },
  {
   "cell_type": "code",
   "execution_count": null,
   "id": "71843ae8",
   "metadata": {},
   "outputs": [],
   "source": []
  }
 ],
 "metadata": {
  "colab": {
   "provenance": []
  },
  "kernelspec": {
   "display_name": "Python 3 (ipykernel)",
   "language": "python",
   "name": "python3"
  },
  "language_info": {
   "codemirror_mode": {
    "name": "ipython",
    "version": 3
   },
   "file_extension": ".py",
   "mimetype": "text/x-python",
   "name": "python",
   "nbconvert_exporter": "python",
   "pygments_lexer": "ipython3",
   "version": "3.10.6"
  },
  "toc": {
   "base_numbering": 1,
   "nav_menu": {},
   "number_sections": true,
   "sideBar": true,
   "skip_h1_title": false,
   "title_cell": "Table of Contents",
   "title_sidebar": "Contents",
   "toc_cell": false,
   "toc_position": {},
   "toc_section_display": true,
   "toc_window_display": false
  }
 },
 "nbformat": 4,
 "nbformat_minor": 5
}
